{
  "nbformat": 4,
  "nbformat_minor": 0,
  "metadata": {
    "colab": {
      "name": "pix2pix.ipynb",
      "version": "0.3.2",
      "provenance": [],
      "collapsed_sections": [],
      "toc_visible": true,
      "include_colab_link": true
    },
    "kernelspec": {
      "name": "python3",
      "display_name": "Python 3"
    },
    "accelerator": "GPU"
  },
  "cells": [
    {
      "cell_type": "markdown",
      "metadata": {
        "id": "view-in-github",
        "colab_type": "text"
      },
      "source": [
        "[View in Colaboratory](https://colab.research.google.com/github/J-Fo-S/models/blob/master/pix2pix.ipynb)"
      ]
    },
    {
      "metadata": {
        "id": "2kcgtpdWat8P",
        "colab_type": "text"
      },
      "cell_type": "markdown",
      "source": [
        "# pix2pix\n",
        "\n",
        "The original pix2pix technique was described in [Image-to-Image Translation with Conditional Adversarial Networks](https://arxiv.org/pdf/1611.07004v1.pdf) and after the initial paper was published there was an outpouring of implementations in a variety of languages and frameworks developed by the community.\n",
        "\n",
        "We will be using Christopher Hesse's [pix2pix-tensorflow](https://github.com/affinelayer/pix2pix-tensorflow) implementation."
      ]
    },
    {
      "metadata": {
        "id": "mVDebKFCcFSQ",
        "colab_type": "text"
      },
      "cell_type": "markdown",
      "source": [
        "## Setup"
      ]
    },
    {
      "metadata": {
        "id": "dzr2AFyNdPOv",
        "colab_type": "code",
        "colab": {
          "base_uri": "https://localhost:8080/",
          "height": 103
        },
        "outputId": "ab2fa5a2-a642-4306-a80e-268c482c222b"
      },
      "cell_type": "code",
      "source": [
        "# download repository to this machine\n",
        "!git clone https://github.com/affinelayer/pix2pix-tensorflow.git"
      ],
      "execution_count": 3,
      "outputs": [
        {
          "output_type": "stream",
          "text": [
            "Cloning into 'pix2pix-tensorflow'...\n",
            "remote: Counting objects: 261, done.\u001b[K\n",
            "remote: Total 261 (delta 0), reused 0 (delta 0), pack-reused 261\u001b[K\n",
            "Receiving objects: 100% (261/261), 13.33 MiB | 54.58 MiB/s, done.\n",
            "Resolving deltas: 100% (106/106), done.\n"
          ],
          "name": "stdout"
        }
      ]
    },
    {
      "metadata": {
        "id": "jfTIDSCbdZGu",
        "colab_type": "code",
        "colab": {
          "base_uri": "https://localhost:8080/",
          "height": 34
        },
        "outputId": "25d46366-cb06-4c35-fe82-f31d13b5fce6"
      },
      "cell_type": "code",
      "source": [
        "# chaeck that it indeed has been downloaded\n",
        "!ls"
      ],
      "execution_count": 4,
      "outputs": [
        {
          "output_type": "stream",
          "text": [
            "datalab  pix2pix-tensorflow\r\n"
          ],
          "name": "stdout"
        }
      ]
    },
    {
      "metadata": {
        "id": "eLdDnSwXkQTz",
        "colab_type": "code",
        "colab": {}
      },
      "cell_type": "code",
      "source": [
        "# the Linux cd command unfortunately does not persist throughout the notebook\n",
        "!cd pix2pix-tensorflow"
      ],
      "execution_count": 0,
      "outputs": []
    },
    {
      "metadata": {
        "id": "rEwxGl7LkU9g",
        "colab_type": "code",
        "colab": {
          "base_uri": "https://localhost:8080/",
          "height": 34
        },
        "outputId": "4a0039dc-3379-494a-ff65-f0eea340177d"
      },
      "cell_type": "code",
      "source": [
        "!ls"
      ],
      "execution_count": 6,
      "outputs": [
        {
          "output_type": "stream",
          "text": [
            "datalab  pix2pix-tensorflow\r\n"
          ],
          "name": "stdout"
        }
      ]
    },
    {
      "metadata": {
        "id": "eBp1ekpMkHau",
        "colab_type": "code",
        "colab": {}
      },
      "cell_type": "code",
      "source": [
        "import os\n",
        "\n",
        "# you need to change directory in Python for the effect to persist in the kernel\n",
        "os.chdir('pix2pix-tensorflow')"
      ],
      "execution_count": 0,
      "outputs": []
    },
    {
      "metadata": {
        "id": "dm2GPqDIkWhB",
        "colab_type": "code",
        "colab": {
          "base_uri": "https://localhost:8080/",
          "height": 34
        },
        "outputId": "0911fe79-ab72-4170-8e79-2ba322933d69"
      },
      "cell_type": "code",
      "source": [
        "# it worked!\n",
        "!ls"
      ],
      "execution_count": 8,
      "outputs": [
        {
          "output_type": "stream",
          "text": [
            "docker\tdocs  LICENSE.txt  pix2pix.py  README.md  server  tools\r\n"
          ],
          "name": "stdout"
        }
      ]
    },
    {
      "metadata": {
        "id": "TSjm7af7dUCa",
        "colab_type": "code",
        "colab": {
          "base_uri": "https://localhost:8080/",
          "height": 88
        },
        "outputId": "594a8b89-f9f5-478f-c4a6-61b39becedd4"
      },
      "cell_type": "code",
      "source": [
        "# use Hesse's utility to download a dataset of facades\n",
        "!python tools/download-dataset.py facades"
      ],
      "execution_count": 9,
      "outputs": [
        {
          "output_type": "stream",
          "text": [
            "downloading https://people.eecs.berkeley.edu/~tinghuiz/projects/pix2pix/datasets/facades.tar.gz\n",
            "extracting\n",
            "done\n"
          ],
          "name": "stdout"
        }
      ]
    },
    {
      "metadata": {
        "id": "MMZOXQOzcXHH",
        "colab_type": "text"
      },
      "cell_type": "markdown",
      "source": [
        "## Train and Test the Model"
      ]
    },
    {
      "metadata": {
        "id": "AnD-ZrOEdb54",
        "colab_type": "code",
        "colab": {
          "base_uri": "https://localhost:8080/",
          "height": 34
        },
        "outputId": "c3d24e44-7cf6-4dba-ea1b-82a8e0a56620"
      },
      "cell_type": "code",
      "source": [
        "%%bash\n",
        "\n",
        "# train the model on the facades dataset\n",
        "python pix2pix.py \\\n",
        "  --mode train \\\n",
        "  --output_dir facades_train \\\n",
        "  --max_epochs 1 \\\n",
        "  --input_dir facades/train \\\n",
        "  --which_direction BtoA"
      ],
      "execution_count": 10,
      "outputs": [
        {
          "output_type": "stream",
          "text": [
            "Process is terminated.\n"
          ],
          "name": "stdout"
        }
      ]
    },
    {
      "metadata": {
        "id": "tel7X1DKdl1e",
        "colab_type": "code",
        "colab": {}
      },
      "cell_type": "code",
      "source": [
        "%%bash\n",
        "\n",
        "# evaluate/test the trained model\n",
        "python pix2pix.py \\\n",
        "  --mode test \\\n",
        "  --output_dir facades_test \\\n",
        "  --input_dir facades/val \\\n",
        "  --checkpoint facades_train"
      ],
      "execution_count": 0,
      "outputs": []
    },
    {
      "metadata": {
        "id": "r7rhkGHzfuFo",
        "colab_type": "code",
        "colab": {}
      },
      "cell_type": "code",
      "source": [
        "# output is an HTML file listing the images\n",
        "!cat facades_test/index.html"
      ],
      "execution_count": 0,
      "outputs": []
    },
    {
      "metadata": {
        "id": "E1wdwAyygpCv",
        "colab_type": "code",
        "colab": {}
      },
      "cell_type": "code",
      "source": [
        "from IPython.display import HTML, Image\n",
        "\n",
        "# we can display HTML inline in the notebook\n",
        "# but the actual images don't display >.<\n",
        "HTML(filename='facades_test/index.html')"
      ],
      "execution_count": 0,
      "outputs": []
    },
    {
      "metadata": {
        "id": "CR3R1YzDdEcs",
        "colab_type": "text"
      },
      "cell_type": "markdown",
      "source": [
        "## Download Results\n",
        "\n",
        "We can download out results and open them locally"
      ]
    },
    {
      "metadata": {
        "id": "Y1KBYZLajHwx",
        "colab_type": "code",
        "colab": {}
      },
      "cell_type": "code",
      "source": [
        "# zip up result directory to download\n",
        "\n",
        "!zip -r squash.zip facades_test # zip output to download"
      ],
      "execution_count": 0,
      "outputs": []
    },
    {
      "metadata": {
        "id": "OIruEf3GiD5B",
        "colab_type": "code",
        "colab": {}
      },
      "cell_type": "code",
      "source": [
        "from google.colab import files\n",
        "\n",
        "# use colab library to download zip locally\n",
        "files.download('squash.zip')"
      ],
      "execution_count": 0,
      "outputs": []
    },
    {
      "metadata": {
        "id": "DfZ3THs4dWJM",
        "colab_type": "text"
      },
      "cell_type": "markdown",
      "source": [
        "# Train on New Images\n",
        "\n",
        "The format that the library expects is the same as in the original paper. Each example is a single image that is composed of two composite images, each the same size (width and height), sandwiched next to each other with image `A` on the left and image `B` on the right.\n",
        "\n",
        "![](https://github.com/affinelayer/pix2pix-tensorflow/raw/master/docs/ab.png)"
      ]
    },
    {
      "metadata": {
        "id": "Cc-UIE5Yk_Nl",
        "colab_type": "code",
        "colab": {}
      },
      "cell_type": "code",
      "source": [
        "Image('facades/train/213.jpg')"
      ],
      "execution_count": 0,
      "outputs": []
    },
    {
      "metadata": {
        "id": "0fm1YUH1ldtg",
        "colab_type": "text"
      },
      "cell_type": "markdown",
      "source": [
        "## Upload Files\n",
        "\n",
        "To upload files in the notebook, we can use the Colab library. The full documentation on working with files in Colaboratory can be found in the [External Data notebook](https://colab.research.google.com/notebooks/io.ipynb)."
      ]
    },
    {
      "metadata": {
        "id": "IvjgX57ymyP3",
        "colab_type": "code",
        "colab": {}
      },
      "cell_type": "code",
      "source": [
        "# an upload file dialog should open\n",
        "uploaded = files.upload()"
      ],
      "execution_count": 0,
      "outputs": []
    },
    {
      "metadata": {
        "id": "1zX9PA9s3L4_",
        "colab_type": "code",
        "colab": {}
      },
      "cell_type": "code",
      "source": [
        "# the files are uploaded as binary data in a dictionary\n",
        "uploaded"
      ],
      "execution_count": 0,
      "outputs": []
    },
    {
      "metadata": {
        "id": "nKCF5ipil8-8",
        "colab_type": "code",
        "colab": {}
      },
      "cell_type": "code",
      "source": [
        "# since we are using pix2pix as a commandline utility\n",
        "# we need to write this data to the file system\n",
        "open('comb.zip', 'wb').write(uploaded['comb.zip'])"
      ],
      "execution_count": 0,
      "outputs": []
    },
    {
      "metadata": {
        "id": "dx8B-TqZ4Ath",
        "colab_type": "code",
        "colab": {}
      },
      "cell_type": "code",
      "source": [
        "# check that the file was correctly written\n",
        "!ls"
      ],
      "execution_count": 0,
      "outputs": []
    },
    {
      "metadata": {
        "id": "leNB_W9f4CS9",
        "colab_type": "code",
        "colab": {}
      },
      "cell_type": "code",
      "source": [
        "# unzip the archive of uploaded images\n",
        "!unzip comb.zip"
      ],
      "execution_count": 0,
      "outputs": []
    },
    {
      "metadata": {
        "id": "cdFuTQnCln20",
        "colab_type": "code",
        "colab": {}
      },
      "cell_type": "code",
      "source": [
        "%%bash\n",
        "\n",
        "# retrain pix2pix on our new images\n",
        "python pix2pix.py \\\n",
        "  --mode train \\\n",
        "  --output_dir facades_train \\\n",
        "  --max_epochs 200 \\\n",
        "  --input_dir comb \\\n",
        "  --which_direction AtoB"
      ],
      "execution_count": 0,
      "outputs": []
    },
    {
      "metadata": {
        "id": "JNYgkY1D4LNe",
        "colab_type": "code",
        "colab": {}
      },
      "cell_type": "code",
      "source": [
        "%%bash\n",
        "\n",
        "# test the new model\n",
        "python pix2pix.py \\\n",
        "  --mode test \\\n",
        "  --output_dir mario_gen \\\n",
        "  --input_dir comb \\\n",
        "  --checkpoint facades_train"
      ],
      "execution_count": 0,
      "outputs": []
    },
    {
      "metadata": {
        "id": "rY0CJhwf4gvg",
        "colab_type": "code",
        "colab": {}
      },
      "cell_type": "code",
      "source": [
        "!zip -r squash.zip mario_gen # zip output to download"
      ],
      "execution_count": 0,
      "outputs": []
    },
    {
      "metadata": {
        "id": "Gf27MJeQ4z38",
        "colab_type": "code",
        "colab": {}
      },
      "cell_type": "code",
      "source": [
        "files.download('squash.zip')"
      ],
      "execution_count": 0,
      "outputs": []
    }
  ]
}