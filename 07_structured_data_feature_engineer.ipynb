{
  "nbformat": 4,
  "nbformat_minor": 0,
  "metadata": {
    "colab": {
      "name": "07_structured_data.ipynb",
      "version": "0.3.2",
      "provenance": [],
      "collapsed_sections": []
    },
    "kernelspec": {
      "display_name": "Python 2",
      "language": "python",
      "name": "python2"
    }
  },
  "cells": [
    {
      "cell_type": "markdown",
      "metadata": {
        "id": "view-in-github",
        "colab_type": "text"
      },
      "source": [
        "[View in Colaboratory](https://colab.research.google.com/github/J-Fo-S/models/blob/master/07_structured_data_feature_engineer.ipynb)"
      ]
    },
    {
      "metadata": {
        "id": "SgGWQkGeuZmB",
        "colab_type": "text"
      },
      "cell_type": "markdown",
      "source": [
        "# Intro to Classifying Structured Data with TensorFlow\n",
        "This notebook demonstrates classifying structured data, like you might find in a CSV file, or a large spreadsheet. The code presented here can become a starting point for a problem you care about. Along the way, we'll introduce feature engineering - which you can use to transform the columns from the CSV into a more useful representation.\n",
        "\n",
        "### Tips \n",
        "\n",
        "* **Delete the checkpoints folder before re-running this notebook.** This notebook uses Estimators. When you run the notebook, they'll write logs and a checkpoint file to *./graphs* (a directory that will be created in the same folder as this notebook on disk). If you'd like to run this notebook multiple times, delete the graphs folder first, so the Estimators begin training from a clean slate."
      ]
    },
    {
      "metadata": {
        "id": "mf-glEb-uZmC",
        "colab_type": "code",
        "colab": {
          "base_uri": "https://localhost:8080/",
          "height": 51
        },
        "outputId": "46c70d73-c7d4-4c90-f076-3bcca1dba479"
      },
      "cell_type": "code",
      "source": [
        "from __future__ import absolute_import\n",
        "from __future__ import division\n",
        "from __future__ import print_function\n",
        "\n",
        "import collections\n",
        "\n",
        "import numpy as np\n",
        "import pandas as pd\n",
        "\n",
        "from IPython.display import Image\n",
        "\n",
        "import tensorflow as tf\n",
        "print('This code requires TensorFlow v1.3+')\n",
        "print('You have:', tf.__version__)"
      ],
      "execution_count": 1,
      "outputs": [
        {
          "output_type": "stream",
          "text": [
            "This code requires TensorFlow v1.3+\n",
            "You have: 1.4.0\n"
          ],
          "name": "stdout"
        }
      ]
    },
    {
      "metadata": {
        "id": "LLruwaabuZmJ",
        "colab_type": "text"
      },
      "cell_type": "markdown",
      "source": [
        "### About the dataset\n",
        "\n",
        "Here, we'll work with the [Adult dataset](https://archive.ics.uci.edu/ml/machine-learning-databases/adult/) from the 1990 US Census. Our task is to predict whether an individual has an income over $50,000 / year, based attributes such as their age and occupation. This is a generic problem with a variety of numeric and categorical attributes - which makes it useful for demonstration purposes."
      ]
    },
    {
      "metadata": {
        "id": "KfDp_hz0uZmN",
        "colab_type": "code",
        "colab": {
          "base_uri": "https://localhost:8080/",
          "height": 68
        },
        "outputId": "6f1f4a42-c429-47af-862b-8f045a1313a7"
      },
      "cell_type": "code",
      "source": [
        "census_train_url = 'https://archive.ics.uci.edu/ml/machine-learning-databases/adult/adult.data'\n",
        "census_test_url = 'https://archive.ics.uci.edu/ml/machine-learning-databases/adult/adult.test'\n",
        "census_train_path = tf.contrib.keras.utils.get_file('census.train', census_train_url)\n",
        "census_test_path = tf.contrib.keras.utils.get_file('census.test', census_test_url)"
      ],
      "execution_count": 3,
      "outputs": [
        {
          "output_type": "stream",
          "text": [
            "Downloading data from https://archive.ics.uci.edu/ml/machine-learning-databases/adult/adult.data\n",
            "3727360/3974305 [===========================>..] - ETA: 0sDownloading data from https://archive.ics.uci.edu/ml/machine-learning-databases/adult/adult.test\n",
            "1843200/2003153 [==========================>...] - ETA: 0s"
          ],
          "name": "stdout"
        }
      ]
    },
    {
      "metadata": {
        "id": "hXIoXxOduZmP",
        "colab_type": "text"
      },
      "cell_type": "markdown",
      "source": [
        "The dataset is missing a header, so we'll add one here. You can find descriptions of these columns in the [names file](https://archive.ics.uci.edu/ml/machine-learning-databases/adult/adult.names)."
      ]
    },
    {
      "metadata": {
        "id": "TuzWK16UuZmQ",
        "colab_type": "code",
        "colab": {}
      },
      "cell_type": "code",
      "source": [
        "column_names = [\n",
        "  'age', 'workclass', 'fnlwgt', 'education', 'education-num',\n",
        "  'marital-status', 'occupation', 'relationship', 'race', 'gender',\n",
        "  'capital-gain', 'capital-loss', 'hours-per-week', 'native-country',\n",
        "  'income'\n",
        "]"
      ],
      "execution_count": 0,
      "outputs": []
    },
    {
      "metadata": {
        "id": "jwDIaywquZmT",
        "colab_type": "text"
      },
      "cell_type": "markdown",
      "source": [
        "### Load the using Pandas\n",
        "\n",
        "In the first half of this notebook, we'll assume the dataset fits into memory. Should you need to work with larger files, you can use the Datasets API to read them."
      ]
    },
    {
      "metadata": {
        "id": "WCs1lTTDuZmT",
        "colab_type": "code",
        "colab": {}
      },
      "cell_type": "code",
      "source": [
        "# Notes\n",
        "# 1) We provide the header from above.\n",
        "# 2) The test file has a line we want to disgard at the top, so we include the parameter 'skiprows=1'\n",
        "census_train = pd.read_csv(census_train_path, index_col=False, names=column_names) \n",
        "census_test = pd.read_csv(census_test_path, skiprows=1, index_col=False, names=column_names) \n",
        "\n",
        "# Drop any rows that have missing elements\n",
        "# Of course there are other ways to handle missing data, but we'll\n",
        "# take the simplest approach here.\n",
        "census_train = census_train.dropna(how=\"any\", axis=0)\n",
        "census_test = census_test.dropna(how=\"any\", axis=0)"
      ],
      "execution_count": 0,
      "outputs": []
    },
    {
      "metadata": {
        "id": "9eFb13-SuZmW",
        "colab_type": "text"
      },
      "cell_type": "markdown",
      "source": [
        "### Correct formatting problems with the Census data\n",
        "As it happens, there's a small formatting problem with the testing CSV file that we'll fix here. The labels in the testing file are written differently than they are in the training file. Notice the extra \".\" after \"<=50K\" and \">50K\" in the screenshot below.\n",
        "\n",
        "You can open the CSVs in your favorite text editor to see the error, or you can see it with Facets in \"overview mode\" - which makes it easy to catch this kind of mistake early."
      ]
    },
    {
      "metadata": {
        "id": "POKg4c_4uZmZ",
        "colab_type": "code",
        "colab": {}
      },
      "cell_type": "code",
      "source": [
        "# Separate the label we want to predict into its own object \n",
        "# At the same time, we'll convert it into true/false to fix the formatting error\n",
        "census_train_label = census_train.pop('income').apply(lambda x: \">50K\" in x)\n",
        "census_test_label = census_test.pop('income').apply(lambda x: \">50K\" in x)"
      ],
      "execution_count": 0,
      "outputs": []
    },
    {
      "metadata": {
        "id": "lk3sRMmFuZmc",
        "colab_type": "text"
      },
      "cell_type": "markdown",
      "source": [
        "I find it useful to print out the shape of the data as I go, as a sanity check."
      ]
    },
    {
      "metadata": {
        "id": "cCLhnl58uZmc",
        "colab_type": "code",
        "colab": {
          "base_uri": "https://localhost:8080/",
          "height": 102
        },
        "outputId": "9eac3963-3288-4884-ba46-a71cbefbca67"
      },
      "cell_type": "code",
      "source": [
        "print (\"Training examples: %d\" % census_train.shape[0])\n",
        "print (\"Training labels: %d\" % census_train_label.shape[0])\n",
        "print()\n",
        "print (\"Test examples: %d\" % census_test.shape[0])\n",
        "print (\"Test labels: %d\" % census_test_label.shape[0])"
      ],
      "execution_count": 7,
      "outputs": [
        {
          "output_type": "stream",
          "text": [
            "Training examples: 32561\n",
            "Training labels: 32561\n",
            "\n",
            "Test examples: 16281\n",
            "Test labels: 16281\n"
          ],
          "name": "stdout"
        }
      ]
    },
    {
      "metadata": {
        "id": "0wy8nmisuZmf",
        "colab_type": "text"
      },
      "cell_type": "markdown",
      "source": [
        "Likewise, I like to see the head of each file, to help spot errors early on. First for the training examples..."
      ]
    },
    {
      "metadata": {
        "id": "RSncgYcpuZmf",
        "colab_type": "code",
        "colab": {
          "base_uri": "https://localhost:8080/",
          "height": 289
        },
        "outputId": "d2837756-ea54-40e5-ef7a-5bce12a4d7e4"
      },
      "cell_type": "code",
      "source": [
        "census_train.head()"
      ],
      "execution_count": 8,
      "outputs": [
        {
          "output_type": "execute_result",
          "data": {
            "text/html": [
              "<div>\n",
              "<style>\n",
              "    .dataframe thead tr:only-child th {\n",
              "        text-align: right;\n",
              "    }\n",
              "\n",
              "    .dataframe thead th {\n",
              "        text-align: left;\n",
              "    }\n",
              "\n",
              "    .dataframe tbody tr th {\n",
              "        vertical-align: top;\n",
              "    }\n",
              "</style>\n",
              "<table border=\"1\" class=\"dataframe\">\n",
              "  <thead>\n",
              "    <tr style=\"text-align: right;\">\n",
              "      <th></th>\n",
              "      <th>age</th>\n",
              "      <th>workclass</th>\n",
              "      <th>fnlwgt</th>\n",
              "      <th>education</th>\n",
              "      <th>education-num</th>\n",
              "      <th>marital-status</th>\n",
              "      <th>occupation</th>\n",
              "      <th>relationship</th>\n",
              "      <th>race</th>\n",
              "      <th>gender</th>\n",
              "      <th>capital-gain</th>\n",
              "      <th>capital-loss</th>\n",
              "      <th>hours-per-week</th>\n",
              "      <th>native-country</th>\n",
              "    </tr>\n",
              "  </thead>\n",
              "  <tbody>\n",
              "    <tr>\n",
              "      <th>0</th>\n",
              "      <td>39</td>\n",
              "      <td>State-gov</td>\n",
              "      <td>77516</td>\n",
              "      <td>Bachelors</td>\n",
              "      <td>13</td>\n",
              "      <td>Never-married</td>\n",
              "      <td>Adm-clerical</td>\n",
              "      <td>Not-in-family</td>\n",
              "      <td>White</td>\n",
              "      <td>Male</td>\n",
              "      <td>2174</td>\n",
              "      <td>0</td>\n",
              "      <td>40</td>\n",
              "      <td>United-States</td>\n",
              "    </tr>\n",
              "    <tr>\n",
              "      <th>1</th>\n",
              "      <td>50</td>\n",
              "      <td>Self-emp-not-inc</td>\n",
              "      <td>83311</td>\n",
              "      <td>Bachelors</td>\n",
              "      <td>13</td>\n",
              "      <td>Married-civ-spouse</td>\n",
              "      <td>Exec-managerial</td>\n",
              "      <td>Husband</td>\n",
              "      <td>White</td>\n",
              "      <td>Male</td>\n",
              "      <td>0</td>\n",
              "      <td>0</td>\n",
              "      <td>13</td>\n",
              "      <td>United-States</td>\n",
              "    </tr>\n",
              "    <tr>\n",
              "      <th>2</th>\n",
              "      <td>38</td>\n",
              "      <td>Private</td>\n",
              "      <td>215646</td>\n",
              "      <td>HS-grad</td>\n",
              "      <td>9</td>\n",
              "      <td>Divorced</td>\n",
              "      <td>Handlers-cleaners</td>\n",
              "      <td>Not-in-family</td>\n",
              "      <td>White</td>\n",
              "      <td>Male</td>\n",
              "      <td>0</td>\n",
              "      <td>0</td>\n",
              "      <td>40</td>\n",
              "      <td>United-States</td>\n",
              "    </tr>\n",
              "    <tr>\n",
              "      <th>3</th>\n",
              "      <td>53</td>\n",
              "      <td>Private</td>\n",
              "      <td>234721</td>\n",
              "      <td>11th</td>\n",
              "      <td>7</td>\n",
              "      <td>Married-civ-spouse</td>\n",
              "      <td>Handlers-cleaners</td>\n",
              "      <td>Husband</td>\n",
              "      <td>Black</td>\n",
              "      <td>Male</td>\n",
              "      <td>0</td>\n",
              "      <td>0</td>\n",
              "      <td>40</td>\n",
              "      <td>United-States</td>\n",
              "    </tr>\n",
              "    <tr>\n",
              "      <th>4</th>\n",
              "      <td>28</td>\n",
              "      <td>Private</td>\n",
              "      <td>338409</td>\n",
              "      <td>Bachelors</td>\n",
              "      <td>13</td>\n",
              "      <td>Married-civ-spouse</td>\n",
              "      <td>Prof-specialty</td>\n",
              "      <td>Wife</td>\n",
              "      <td>Black</td>\n",
              "      <td>Female</td>\n",
              "      <td>0</td>\n",
              "      <td>0</td>\n",
              "      <td>40</td>\n",
              "      <td>Cuba</td>\n",
              "    </tr>\n",
              "  </tbody>\n",
              "</table>\n",
              "</div>"
            ],
            "text/plain": [
              "   age          workclass  fnlwgt   education  education-num  \\\n",
              "0   39          State-gov   77516   Bachelors             13   \n",
              "1   50   Self-emp-not-inc   83311   Bachelors             13   \n",
              "2   38            Private  215646     HS-grad              9   \n",
              "3   53            Private  234721        11th              7   \n",
              "4   28            Private  338409   Bachelors             13   \n",
              "\n",
              "        marital-status          occupation    relationship    race   gender  \\\n",
              "0        Never-married        Adm-clerical   Not-in-family   White     Male   \n",
              "1   Married-civ-spouse     Exec-managerial         Husband   White     Male   \n",
              "2             Divorced   Handlers-cleaners   Not-in-family   White     Male   \n",
              "3   Married-civ-spouse   Handlers-cleaners         Husband   Black     Male   \n",
              "4   Married-civ-spouse      Prof-specialty            Wife   Black   Female   \n",
              "\n",
              "   capital-gain  capital-loss  hours-per-week  native-country  \n",
              "0          2174             0              40   United-States  \n",
              "1             0             0              13   United-States  \n",
              "2             0             0              40   United-States  \n",
              "3             0             0              40   United-States  \n",
              "4             0             0              40            Cuba  "
            ]
          },
          "metadata": {
            "tags": []
          },
          "execution_count": 8
        }
      ]
    },
    {
      "metadata": {
        "id": "BIvd1bREuZmi",
        "colab_type": "text"
      },
      "cell_type": "markdown",
      "source": [
        "... and now for the labels. Notice the label column is now true/false."
      ]
    },
    {
      "metadata": {
        "id": "EsohsggouZmj",
        "colab_type": "code",
        "colab": {
          "base_uri": "https://localhost:8080/",
          "height": 204
        },
        "outputId": "4c4064ef-2b64-4d0f-cb3e-b0ca4c8a9ee0"
      },
      "cell_type": "code",
      "source": [
        "census_train_label.head(10)"
      ],
      "execution_count": 9,
      "outputs": [
        {
          "output_type": "execute_result",
          "data": {
            "text/plain": [
              "0    False\n",
              "1    False\n",
              "2    False\n",
              "3    False\n",
              "4    False\n",
              "5    False\n",
              "6    False\n",
              "7     True\n",
              "8     True\n",
              "9     True\n",
              "Name: income, dtype: bool"
            ]
          },
          "metadata": {
            "tags": []
          },
          "execution_count": 9
        }
      ]
    },
    {
      "metadata": {
        "id": "Ywv9hL66uZmm",
        "colab_type": "code",
        "colab": {}
      },
      "cell_type": "code",
      "source": [
        "# Likewise, you could do a spot check of the testing examples and labels.\n",
        "# census_test.head()\n",
        "# census_test_label.head()"
      ],
      "execution_count": 0,
      "outputs": []
    },
    {
      "metadata": {
        "id": "_eRQJHc6uZmo",
        "colab_type": "text"
      },
      "cell_type": "markdown",
      "source": [
        "# Estimators and Input Functions\n",
        "\n",
        "[TensorFlow Estimators](https://www.tensorflow.org/get_started/estimator) provide a high-level API you can use to train your models. Here, we'll use Canned Estimators (\"models-in-a-box\"). These handle many implementation details for you, so you can focus on solving your problem (e.g., by coming up with informative features using the feature engineering techniques we introduce below). \n",
        "\n",
        "To learn more about Estimators, you can watch this talk from Google I/O by Martin Wicke: [Effective TensorFlow for Non-Experts](https://www.youtube.com/watch?v=5DknTFbcGVM)."
      ]
    },
    {
      "metadata": {
        "id": "Yp7SWOy-uZms",
        "colab_type": "text"
      },
      "cell_type": "markdown",
      "source": [
        "You can probably guess the purpose of methods like train / evaluate / and predict. What may be new to you, though, are [Input Functions](https://www.tensorflow.org/get_started/estimator#describe_the_training_input_pipeline). These are responsible for reading your data, preprocessing it, and sending it to the model. When you use an input function, your code will read *estimator.train(your_input_function)* rather than *estimator.train(your_training_data)*, which you may be accustomed to. \n",
        "\n",
        "First, we'll use a [pre-built](https://www.tensorflow.org/get_started/input_fn) input function. This is useful for working with a Pandas dataset that you happen to already have in memory, as we do here. Next, we'll use the [Datasets API](https://www.tensorflow.org/programmers_guide/datasets) to write our own. The Datasets API will become the standard way of writing input functions moving forward. At the time of writing (v1.3), it's in contrib, but will move to core in v1.4. We'll update this notebook after that."
      ]
    },
    {
      "metadata": {
        "id": "iOdm2daHuZmt",
        "colab_type": "text"
      },
      "cell_type": "markdown",
      "source": [
        "### Input functions for training and testing data\n",
        "Why do we need two input functions? There are a couple differences in how we handle our training and testing data. We want the training input function to loop over the data indefinitely (returning batches of examples and labels when called). We want the testing input function run for just one epoch, so we can make one prediction for each testing example. We'll also want to shuffle the training data, but not the testing data (so we can compare it to the labels later)."
      ]
    },
    {
      "metadata": {
        "id": "ixx1EuaouZmu",
        "colab_type": "code",
        "colab": {}
      },
      "cell_type": "code",
      "source": [
        "def create_train_input_fn(): \n",
        "    return tf.estimator.inputs.pandas_input_fn(\n",
        "        x=census_train,\n",
        "        y=census_train_label, \n",
        "        batch_size=32,\n",
        "        num_epochs=None, # Repeat forever\n",
        "        shuffle=True)"
      ],
      "execution_count": 0,
      "outputs": []
    },
    {
      "metadata": {
        "id": "vtCopDn-uZmx",
        "colab_type": "code",
        "colab": {}
      },
      "cell_type": "code",
      "source": [
        "def create_test_input_fn():\n",
        "    return tf.estimator.inputs.pandas_input_fn(\n",
        "        x=census_test,\n",
        "        y=census_test_label, \n",
        "        num_epochs=1, # Just one epoch\n",
        "        shuffle=False) # Don't shuffle so we can compare to census_test_labels later"
      ],
      "execution_count": 0,
      "outputs": []
    },
    {
      "metadata": {
        "id": "IPqPqwlguZmz",
        "colab_type": "text"
      },
      "cell_type": "markdown",
      "source": [
        "See the bottom of the notebook for an example of doing this with the new Datasets API."
      ]
    },
    {
      "metadata": {
        "id": "8xCDEdi2uZmz",
        "colab_type": "text"
      },
      "cell_type": "markdown",
      "source": [
        "# Feature Engineering\n",
        "\n",
        "Now we'll specify the features we'll use and how we'd like them represented. To do so, we'll use tf.feature_columns. Basically, these enable you to represent a column from the CSV file in a variety of interesting ways. Our goal here is to demostrate how to work with different types of features, rather than to aim for an accurate model. Here are five different types we'll use in our Linear model:\n",
        "\n",
        "* A numeric_column. This is just a real-valued attribute.\n",
        "* A bucketized_column. TensorFlow automatically buckets a numeric column for us.\n",
        "* A categorical_column_with_vocabulary_list. This is just a categorical column, where you know the possible values in advance. This is useful when you have a small number of possibilities.\n",
        "* A categorical_column_with_hash_bucket. This is a useful way to represent categorical features when you have a large number of values. Beware of hash collisions.\n",
        "* A crossed_column. Linear models cannot consider interactions between features, so we'll ask TensorFlow to cross features for us.\n",
        "\n",
        "In the Deep model, we'll also use:\n",
        "\n",
        "* An embedding column(!). This automatically creates an embedding for categorical data.\n",
        "\n",
        "You can learn more about feature columns in the [Large Scale Linear Models Tutorial](https://www.tensorflow.org/tutorials/linear#feature_columns_and_transformations) in the [Wide & Deep tutorial](https://www.tensorflow.org/tutorials/wide_and_deep#define_base_feature_columns), as well as in the [API doc](https://www.tensorflow.org/api_docs/python/tf/feature_column). \n",
        "\n",
        "Following is a demo of a couple of the things you can do."
      ]
    },
    {
      "metadata": {
        "id": "cDtouuNQuZm0",
        "colab_type": "code",
        "colab": {}
      },
      "cell_type": "code",
      "source": [
        "# A list of the feature columns we'll use to train the Linear model\n",
        "feature_columns = []"
      ],
      "execution_count": 0,
      "outputs": []
    },
    {
      "metadata": {
        "id": "r4P0vxhwuZm2",
        "colab_type": "code",
        "colab": {}
      },
      "cell_type": "code",
      "source": [
        "# To start, we'll use the raw, numeric value of age.\n",
        "age = tf.feature_column.numeric_column('age')\n",
        "feature_columns.append(age)"
      ],
      "execution_count": 0,
      "outputs": []
    },
    {
      "metadata": {
        "id": "cSWngYTvuZm4",
        "colab_type": "text"
      },
      "cell_type": "markdown",
      "source": [
        "Next, we'll add a bucketized column. Bucketing divides the data based on ranges, so the classifier can consider each independently."
      ]
    },
    {
      "metadata": {
        "id": "s0mgHa1guZm7",
        "colab_type": "code",
        "colab": {}
      },
      "cell_type": "code",
      "source": [
        "age_buckets = tf.feature_column.bucketized_column(\n",
        "    tf.feature_column.numeric_column('age'), \n",
        "    boundaries=[31, 46, 60, 75, 90] # specify the ranges\n",
        ")\n",
        "\n",
        "feature_columns.append(age_buckets)"
      ],
      "execution_count": 0,
      "outputs": []
    },
    {
      "metadata": {
        "id": "PlAGuj5kuZm9",
        "colab_type": "text"
      },
      "cell_type": "markdown",
      "source": [
        "You can also evenly divide the data, if you prefer not to specify the ranges yourself."
      ]
    },
    {
      "metadata": {
        "id": "sDBizBtCuZm-",
        "colab_type": "code",
        "colab": {}
      },
      "cell_type": "code",
      "source": [
        "# age_buckets = tf.feature_column.bucketized_column(\n",
        "#    tf.feature_column.numeric_column('age'), \n",
        "#    list(range(10))\n",
        "#)"
      ],
      "execution_count": 0,
      "outputs": []
    },
    {
      "metadata": {
        "id": "S5WIKj5ZuZnA",
        "colab_type": "code",
        "colab": {}
      },
      "cell_type": "code",
      "source": [
        "# Here's a categorical column\n",
        "# We're specifying the possible values\n",
        "education = tf.feature_column.categorical_column_with_vocabulary_list(\n",
        "    \"education\", [\n",
        "        \"Bachelors\", \"HS-grad\", \"11th\", \"Masters\", \"9th\",\n",
        "        \"Some-college\", \"Assoc-acdm\", \"Assoc-voc\", \"7th-8th\",\n",
        "        \"Doctorate\", \"Prof-school\", \"5th-6th\", \"10th\", \"1st-4th\",\n",
        "        \"Preschool\", \"12th\"\n",
        "    ])\n",
        "\n",
        "feature_columns.append(education)"
      ],
      "execution_count": 0,
      "outputs": []
    },
    {
      "metadata": {
        "id": "Klc74VTNuZnC",
        "colab_type": "text"
      },
      "cell_type": "markdown",
      "source": [
        "If you prefer not to specify the vocab in code, you can also read it from a file, or alternatively - use a categorical_column_with_hash_bucket. Beware of hash collisions."
      ]
    },
    {
      "metadata": {
        "id": "59pNUmb9uZnC",
        "colab_type": "code",
        "colab": {}
      },
      "cell_type": "code",
      "source": [
        "# A categorical feature with a possibly large number of values\n",
        "# and the vocabulary not specified in advance.\n",
        "native_country = tf.feature_column.categorical_column_with_hash_bucket('native-country', 1000)\n",
        "feature_columns.append(native_country)"
      ],
      "execution_count": 0,
      "outputs": []
    },
    {
      "metadata": {
        "id": "zUsRNouBuZnE",
        "colab_type": "text"
      },
      "cell_type": "markdown",
      "source": [
        "Now let's create a crossed column for age and education. Here's what this looks like."
      ]
    },
    {
      "metadata": {
        "id": "CwxIUftjuZnH",
        "colab_type": "code",
        "colab": {}
      },
      "cell_type": "code",
      "source": [
        "age_cross_education = tf.feature_column.crossed_column(\n",
        "    [age_buckets, education],\n",
        "    hash_bucket_size=int(1e4) # Using a hash is handy here\n",
        ")\n",
        "feature_columns.append(age_cross_education)"
      ],
      "execution_count": 0,
      "outputs": []
    },
    {
      "metadata": {
        "id": "deQr99GLuZnJ",
        "colab_type": "text"
      },
      "cell_type": "markdown",
      "source": [
        "## Train a Canned Linear Estimator\n",
        "\n",
        "Note: logs and a checkpoint file will be written to *model_dir*. Delete this from disk before rerunning the notebook for a clean start."
      ]
    },
    {
      "metadata": {
        "id": "74Ix-_pZuZnJ",
        "colab_type": "code",
        "colab": {
          "base_uri": "https://localhost:8080/",
          "height": 479
        },
        "outputId": "85ca6ece-57e1-4aae-c43c-ebc8a9b169f5"
      },
      "cell_type": "code",
      "source": [
        "train_input_fn = create_train_input_fn()\n",
        "estimator = tf.estimator.LinearClassifier(feature_columns, model_dir='graphs/linear', n_classes=2)\n",
        "estimator.train(train_input_fn, steps=1000)"
      ],
      "execution_count": 21,
      "outputs": [
        {
          "output_type": "stream",
          "text": [
            "INFO:tensorflow:Using default config.\n",
            "INFO:tensorflow:Using config: {'_save_checkpoints_secs': 600, '_session_config': None, '_keep_checkpoint_max': 5, '_task_type': 'worker', '_is_chief': True, '_cluster_spec': <tensorflow.python.training.server_lib.ClusterSpec object at 0x7f18d9c9e610>, '_save_checkpoints_steps': None, '_keep_checkpoint_every_n_hours': 10000, '_service': None, '_num_ps_replicas': 0, '_tf_random_seed': None, '_master': '', '_num_worker_replicas': 1, '_task_id': 0, '_log_step_count_steps': 100, '_model_dir': 'graphs/linear', '_save_summary_steps': 100}\n",
            "INFO:tensorflow:Create CheckpointSaverHook.\n",
            "INFO:tensorflow:Saving checkpoints for 1 into graphs/linear/model.ckpt.\n",
            "INFO:tensorflow:loss = 22.1807, step = 1\n",
            "INFO:tensorflow:global_step/sec: 251.045\n",
            "INFO:tensorflow:loss = 22.4872, step = 101 (0.403 sec)\n",
            "INFO:tensorflow:global_step/sec: 233.898\n",
            "INFO:tensorflow:loss = 15.1095, step = 201 (0.436 sec)\n",
            "INFO:tensorflow:global_step/sec: 180.31\n",
            "INFO:tensorflow:loss = 11.7485, step = 301 (0.552 sec)\n",
            "INFO:tensorflow:global_step/sec: 174.718\n",
            "INFO:tensorflow:loss = 18.0718, step = 401 (0.568 sec)\n",
            "INFO:tensorflow:global_step/sec: 177.273\n",
            "INFO:tensorflow:loss = 25.288, step = 501 (0.564 sec)\n",
            "INFO:tensorflow:global_step/sec: 181.043\n",
            "INFO:tensorflow:loss = 11.2068, step = 601 (0.553 sec)\n",
            "INFO:tensorflow:global_step/sec: 175.67\n",
            "INFO:tensorflow:loss = 14.1739, step = 701 (0.576 sec)\n",
            "INFO:tensorflow:global_step/sec: 168.168\n",
            "INFO:tensorflow:loss = 22.9893, step = 801 (0.589 sec)\n",
            "INFO:tensorflow:global_step/sec: 162.247\n",
            "INFO:tensorflow:loss = 23.7747, step = 901 (0.617 sec)\n",
            "INFO:tensorflow:Saving checkpoints for 1000 into graphs/linear/model.ckpt.\n",
            "INFO:tensorflow:Loss for final step: 18.2596.\n"
          ],
          "name": "stdout"
        },
        {
          "output_type": "execute_result",
          "data": {
            "text/plain": [
              "<tensorflow.python.estimator.canned.linear.LinearClassifier at 0x7f18e6e67110>"
            ]
          },
          "metadata": {
            "tags": []
          },
          "execution_count": 21
        }
      ]
    },
    {
      "metadata": {
        "id": "bHwLlXzMuZnL",
        "colab_type": "text"
      },
      "cell_type": "markdown",
      "source": [
        "## Evaluate"
      ]
    },
    {
      "metadata": {
        "id": "CJvxnO58uZnL",
        "colab_type": "code",
        "colab": {
          "base_uri": "https://localhost:8080/",
          "height": 292
        },
        "outputId": "e50df2e8-2da8-439b-ac16-298bfcaf4641"
      },
      "cell_type": "code",
      "source": [
        "test_input_fn = create_test_input_fn()\n",
        "estimator.evaluate(test_input_fn)"
      ],
      "execution_count": 22,
      "outputs": [
        {
          "output_type": "stream",
          "text": [
            "WARNING:tensorflow:Casting <dtype: 'float32'> labels to bool.\n",
            "WARNING:tensorflow:Casting <dtype: 'float32'> labels to bool.\n",
            "INFO:tensorflow:Starting evaluation at 2017-11-21-03:59:12\n",
            "INFO:tensorflow:Restoring parameters from graphs/linear/model.ckpt-1000\n",
            "INFO:tensorflow:Finished evaluation at 2017-11-21-03:59:14\n",
            "INFO:tensorflow:Saving dict for global step 1000: accuracy = 0.763774, accuracy_baseline = 0.763774, auc = 0.671483, auc_precision_recall = 0.376318, average_loss = 0.497966, global_step = 1000, label/mean = 0.236226, loss = 63.339, prediction/mean = 0.210546\n"
          ],
          "name": "stdout"
        },
        {
          "output_type": "execute_result",
          "data": {
            "text/plain": [
              "{'accuracy': 0.76377374,\n",
              " 'accuracy_baseline': 0.76377374,\n",
              " 'auc': 0.6714828,\n",
              " 'auc_precision_recall': 0.37631762,\n",
              " 'average_loss': 0.49796644,\n",
              " 'global_step': 1000,\n",
              " 'label/mean': 0.23622628,\n",
              " 'loss': 63.338997,\n",
              " 'prediction/mean': 0.21054573}"
            ]
          },
          "metadata": {
            "tags": []
          },
          "execution_count": 22
        }
      ]
    },
    {
      "metadata": {
        "id": "viPIlqODuZnM",
        "colab_type": "text"
      },
      "cell_type": "markdown",
      "source": [
        "### Predict\n",
        "\n",
        "The Estimator returns a generator object. This bit of code demonstrates how to retrieve predictions for individual examples."
      ]
    },
    {
      "metadata": {
        "id": "0iE1g0l2uZnN",
        "colab_type": "code",
        "colab": {
          "base_uri": "https://localhost:8080/",
          "height": 119
        },
        "outputId": "f5fba5f5-eba6-4238-8c18-3322fc6c0b27"
      },
      "cell_type": "code",
      "source": [
        "# reinitialize the input function\n",
        "test_input_fn = create_test_input_fn()\n",
        "\n",
        "predictions = estimator.predict(test_input_fn)\n",
        "i = 0\n",
        "for prediction in predictions:\n",
        "    true_label = census_test_label[i]\n",
        "    predicted_label = prediction['class_ids'][0]\n",
        "    # Uncomment the following line to see probabilities for individual classes\n",
        "    # print(prediction) \n",
        "    print(\"Example %d. Actual: %d, Predicted: %d\" % (i, true_label, predicted_label))\n",
        "    i += 1\n",
        "    if i == 5: break"
      ],
      "execution_count": 23,
      "outputs": [
        {
          "output_type": "stream",
          "text": [
            "INFO:tensorflow:Restoring parameters from graphs/linear/model.ckpt-1000\n",
            "Example 0. Actual: 0, Predicted: 0\n",
            "Example 1. Actual: 0, Predicted: 0\n",
            "Example 2. Actual: 1, Predicted: 0\n",
            "Example 3. Actual: 1, Predicted: 0\n",
            "Example 4. Actual: 0, Predicted: 0\n"
          ],
          "name": "stdout"
        }
      ]
    },
    {
      "metadata": {
        "id": "byLvcesZuZnO",
        "colab_type": "text"
      },
      "cell_type": "markdown",
      "source": [
        "## What features can you use to achieve higher accuracy?\n",
        "This dataset is imbalanced, so an an accuracy of around 75% is low in this context (this could be achieved merely by predicting *everyone* makes less than 50k / year). In fact, if you look through the predictions closely, you'll find that many are zero. We'll get a little smarter as we go. (Note: We haven't tried to optimize for accuracy on this dataset - the goal here is to demonstrate different feature engineering techniques you can explore)."
      ]
    },
    {
      "metadata": {
        "id": "b4bgDDm3uZnP",
        "colab_type": "text"
      },
      "cell_type": "markdown",
      "source": [
        "## Train a Deep Model"
      ]
    },
    {
      "metadata": {
        "id": "NT8_iuVyuZnP",
        "colab_type": "text"
      },
      "cell_type": "markdown",
      "source": [
        "### Add an embedding feature(!) and update the feature columns\n",
        "Instead of using a hash to represent categorical features, here we'll use a learned embedding. (Cool, right?) We'll also update how the features are represented for our deep model. Here, we'll use a different combination of features that before, just for fun."
      ]
    },
    {
      "metadata": {
        "id": "srQTFKOCuZnP",
        "colab_type": "code",
        "colab": {}
      },
      "cell_type": "code",
      "source": [
        "# We'll provide vocabulary lists for features with just a few terms\n",
        "workclass = tf.feature_column.categorical_column_with_vocabulary_list(\n",
        "    'workclass',\n",
        "    [' Self-emp-not-inc', ' Private', ' State-gov', ' Federal-gov',\n",
        "     ' Local-gov', ' ?', ' Self-emp-inc', ' Without-pay', ' Never-worked'])\n",
        "\n",
        "education = tf.feature_column.categorical_column_with_vocabulary_list(\n",
        "    'education',\n",
        "    [' Bachelors', ' HS-grad', ' 11th', ' Masters', ' 9th', ' Some-college',\n",
        "     ' Assoc-acdm', ' Assoc-voc', ' 7th-8th', ' Doctorate', ' Prof-school',\n",
        "     ' 5th-6th', ' 10th', ' 1st-4th', ' Preschool', ' 12th'])\n",
        "\n",
        "marital_status = tf.feature_column.categorical_column_with_vocabulary_list(\n",
        "    'marital-status',\n",
        "    [' Married-civ-spouse', ' Divorced', ' Married-spouse-absent',\n",
        "     ' Never-married', ' Separated', ' Married-AF-spouse', ' Widowed'])\n",
        "     \n",
        "relationship = tf.feature_column.categorical_column_with_vocabulary_list(\n",
        "    'relationship',\n",
        "    [' Husband', ' Not-in-family', ' Wife', ' Own-child', ' Unmarried',\n",
        "     ' Other-relative'])"
      ],
      "execution_count": 0,
      "outputs": []
    },
    {
      "metadata": {
        "id": "qrdUJHc6uZnR",
        "colab_type": "code",
        "colab": {}
      },
      "cell_type": "code",
      "source": [
        "feature_columns = [\n",
        "\n",
        "    # Use indicator columns for low dimensional vocabularies\n",
        "    tf.feature_column.indicator_column(workclass),\n",
        "    tf.feature_column.indicator_column(education),\n",
        "    tf.feature_column.indicator_column(marital_status),\n",
        "    tf.feature_column.indicator_column(relationship),\n",
        "\n",
        "    # Use embedding columns for high dimensional vocabularies\n",
        "    tf.feature_column.embedding_column(  # now using embedding!\n",
        "        # params are hash buckets, embedding size\n",
        "        tf.feature_column.categorical_column_with_hash_bucket('occupation', 100), 10),\n",
        "    \n",
        "    # numeric features\n",
        "    tf.feature_column.numeric_column('age'),\n",
        "    tf.feature_column.numeric_column('education-num'),\n",
        "    tf.feature_column.numeric_column('capital-gain'),\n",
        "    tf.feature_column.numeric_column('capital-loss'),\n",
        "    tf.feature_column.numeric_column('hours-per-week'),   \n",
        "]"
      ],
      "execution_count": 0,
      "outputs": []
    },
    {
      "metadata": {
        "id": "4zzqKRnMuZnT",
        "colab_type": "code",
        "colab": {
          "base_uri": "https://localhost:8080/",
          "height": 71
        },
        "outputId": "b42bfea6-dc8c-466a-c081-a00405feb6d1"
      },
      "cell_type": "code",
      "source": [
        "estimator = tf.estimator.DNNClassifier(hidden_units=[256, 128, 64], \n",
        "                                       feature_columns=feature_columns, \n",
        "                                       n_classes=2, \n",
        "                                       model_dir='graphs/dnn')"
      ],
      "execution_count": 26,
      "outputs": [
        {
          "output_type": "stream",
          "text": [
            "INFO:tensorflow:Using default config.\n",
            "INFO:tensorflow:Using config: {'_save_checkpoints_secs': 600, '_session_config': None, '_keep_checkpoint_max': 5, '_task_type': 'worker', '_is_chief': True, '_cluster_spec': <tensorflow.python.training.server_lib.ClusterSpec object at 0x7f18d94c3350>, '_save_checkpoints_steps': None, '_keep_checkpoint_every_n_hours': 10000, '_service': None, '_num_ps_replicas': 0, '_tf_random_seed': None, '_master': '', '_num_worker_replicas': 1, '_task_id': 0, '_log_step_count_steps': 100, '_model_dir': 'graphs/dnn', '_save_summary_steps': 100}\n"
          ],
          "name": "stdout"
        }
      ]
    },
    {
      "metadata": {
        "id": "dhSKV3RGuZnW",
        "colab_type": "code",
        "colab": {
          "base_uri": "https://localhost:8080/",
          "height": 765
        },
        "outputId": "15b72d01-67af-4676-a126-cf8627dad05c"
      },
      "cell_type": "code",
      "source": [
        "train_input_fn = create_train_input_fn()\n",
        "estimator.train(train_input_fn, steps=2000)"
      ],
      "execution_count": 27,
      "outputs": [
        {
          "output_type": "stream",
          "text": [
            "INFO:tensorflow:Create CheckpointSaverHook.\n",
            "INFO:tensorflow:Saving checkpoints for 1 into graphs/dnn/model.ckpt.\n",
            "INFO:tensorflow:loss = 244.771, step = 1\n",
            "INFO:tensorflow:global_step/sec: 130.022\n",
            "INFO:tensorflow:loss = 10.8267, step = 101 (0.774 sec)\n",
            "INFO:tensorflow:global_step/sec: 152.783\n",
            "INFO:tensorflow:loss = 26.9902, step = 201 (0.654 sec)\n",
            "INFO:tensorflow:global_step/sec: 108.012\n",
            "INFO:tensorflow:loss = 8.70766, step = 301 (0.932 sec)\n",
            "INFO:tensorflow:global_step/sec: 124.724\n",
            "INFO:tensorflow:loss = 12.9268, step = 401 (0.794 sec)\n",
            "INFO:tensorflow:global_step/sec: 117.934\n",
            "INFO:tensorflow:loss = 11.8015, step = 501 (0.852 sec)\n",
            "INFO:tensorflow:global_step/sec: 141.913\n",
            "INFO:tensorflow:loss = 7.60475, step = 601 (0.704 sec)\n",
            "INFO:tensorflow:global_step/sec: 136.568\n",
            "INFO:tensorflow:loss = 9.64487, step = 701 (0.734 sec)\n",
            "INFO:tensorflow:global_step/sec: 142.36\n",
            "INFO:tensorflow:loss = 15.7231, step = 801 (0.702 sec)\n",
            "INFO:tensorflow:global_step/sec: 130.186\n",
            "INFO:tensorflow:loss = 12.5404, step = 901 (0.766 sec)\n",
            "INFO:tensorflow:global_step/sec: 104.615\n",
            "INFO:tensorflow:loss = 8.20546, step = 1001 (0.965 sec)\n",
            "INFO:tensorflow:global_step/sec: 87.1118\n",
            "INFO:tensorflow:loss = 8.09137, step = 1101 (1.144 sec)\n",
            "INFO:tensorflow:global_step/sec: 91.0392\n",
            "INFO:tensorflow:loss = 13.174, step = 1201 (1.098 sec)\n",
            "INFO:tensorflow:global_step/sec: 90.2351\n",
            "INFO:tensorflow:loss = 9.50489, step = 1301 (1.111 sec)\n",
            "INFO:tensorflow:global_step/sec: 95.3626\n",
            "INFO:tensorflow:loss = 9.32438, step = 1401 (1.055 sec)\n",
            "INFO:tensorflow:global_step/sec: 109.613\n",
            "INFO:tensorflow:loss = 12.6886, step = 1501 (0.893 sec)\n",
            "INFO:tensorflow:global_step/sec: 135.785\n",
            "INFO:tensorflow:loss = 13.7731, step = 1601 (0.737 sec)\n",
            "INFO:tensorflow:global_step/sec: 147.695\n",
            "INFO:tensorflow:loss = 10.9351, step = 1701 (0.679 sec)\n",
            "INFO:tensorflow:global_step/sec: 118.675\n",
            "INFO:tensorflow:loss = 10.9652, step = 1801 (0.857 sec)\n",
            "INFO:tensorflow:global_step/sec: 82.3124\n",
            "INFO:tensorflow:loss = 13.5789, step = 1901 (1.203 sec)\n",
            "INFO:tensorflow:Saving checkpoints for 2000 into graphs/dnn/model.ckpt.\n",
            "INFO:tensorflow:Loss for final step: 13.7607.\n"
          ],
          "name": "stdout"
        },
        {
          "output_type": "execute_result",
          "data": {
            "text/plain": [
              "<tensorflow.python.estimator.canned.dnn.DNNClassifier at 0x7f18d94e6950>"
            ]
          },
          "metadata": {
            "tags": []
          },
          "execution_count": 27
        }
      ]
    },
    {
      "metadata": {
        "id": "6LTCgHVQuZnX",
        "colab_type": "code",
        "colab": {
          "base_uri": "https://localhost:8080/",
          "height": 292
        },
        "outputId": "c574c8e3-fa42-493a-c52c-98c0e642f7c3"
      },
      "cell_type": "code",
      "source": [
        "test_input_fn = create_test_input_fn()\n",
        "estimator.evaluate(test_input_fn)"
      ],
      "execution_count": 28,
      "outputs": [
        {
          "output_type": "stream",
          "text": [
            "WARNING:tensorflow:Casting <dtype: 'float32'> labels to bool.\n",
            "WARNING:tensorflow:Casting <dtype: 'float32'> labels to bool.\n",
            "INFO:tensorflow:Starting evaluation at 2017-11-21-03:59:39\n",
            "INFO:tensorflow:Restoring parameters from graphs/dnn/model.ckpt-2000\n",
            "INFO:tensorflow:Finished evaluation at 2017-11-21-03:59:42\n",
            "INFO:tensorflow:Saving dict for global step 2000: accuracy = 0.838831, accuracy_baseline = 0.763774, auc = 0.893158, auc_precision_recall = 0.738136, average_loss = 0.336985, global_step = 2000, label/mean = 0.236226, loss = 42.863, prediction/mean = 0.237749\n"
          ],
          "name": "stdout"
        },
        {
          "output_type": "execute_result",
          "data": {
            "text/plain": [
              "{'accuracy': 0.83883053,\n",
              " 'accuracy_baseline': 0.76377374,\n",
              " 'auc': 0.89315844,\n",
              " 'auc_precision_recall': 0.73813587,\n",
              " 'average_loss': 0.33698541,\n",
              " 'global_step': 2000,\n",
              " 'label/mean': 0.23622628,\n",
              " 'loss': 42.862965,\n",
              " 'prediction/mean': 0.23774871}"
            ]
          },
          "metadata": {
            "tags": []
          },
          "execution_count": 28
        }
      ]
    },
    {
      "metadata": {
        "id": "p3Pbh803uZnZ",
        "colab_type": "text"
      },
      "cell_type": "markdown",
      "source": [
        "That's a little better."
      ]
    },
    {
      "metadata": {
        "id": "Q7o8xyaKuZnc",
        "colab_type": "text"
      },
      "cell_type": "markdown",
      "source": [
        "## Datasets API\n",
        "Here, I'll demonstrate how to use the new [Datasets API](https://www.tensorflow.org/programmers_guide/datasets), which you can use to write complex input pipeline from simple, reusable pieces. \n",
        "\n",
        "At the time of writing (v1.3) this API is in contrib. It's most likely moving into core in v1.4, which is good news. Using TensorFlow 1.4, the below can be written using *regular* Python code to parse the CSV file, via the *Datasets.from_generator()* method. This improves producivity a lot - it means you can use Python to read, parse, and apply whatever logic you wish to your input data - then you can take advantage of the reusable pieces of the Datasets API (e.g., batch, shuffle, repeat, etc) - as well as the optional performance tuning (e.g., prefetch, parallel process, etc).\n",
        "\n",
        "In combination with Estimators, this means you can train and tune deep models at scale on data of almost any size, entirely using a high-level API. I'll update this notebook after v1.4 is released with an example. It's neat. "
      ]
    },
    {
      "metadata": {
        "id": "LyXGvLGDuZnc",
        "colab_type": "code",
        "colab": {}
      },
      "cell_type": "code",
      "source": [
        "# I'm going to reset the notebook to show you how to do this from a clean slate\n",
        "%reset -f \n",
        "\n",
        "import collections\n",
        "import tensorflow as tf\n",
        "\n",
        "census_train_url = 'https://archive.ics.uci.edu/ml/machine-learning-databases/adult/adult.data'\n",
        "census_test_url = 'https://archive.ics.uci.edu/ml/machine-learning-databases/adult/adult.test'\n",
        "census_train_path = tf.contrib.keras.utils.get_file('census.train', census_train_url)\n",
        "census_test_path = tf.contrib.keras.utils.get_file('census.test', census_test_url)"
      ],
      "execution_count": 0,
      "outputs": []
    },
    {
      "metadata": {
        "id": "usbFrmzZuZne",
        "colab_type": "code",
        "colab": {}
      },
      "cell_type": "code",
      "source": [
        "# Provide default values for each of the CSV columns\n",
        "# and a header at the same time.\n",
        "csv_defaults = collections.OrderedDict([\n",
        "  ('age',[0]),\n",
        "  ('workclass',['']),\n",
        "  ('fnlwgt',[0]),\n",
        "  ('education',['']),\n",
        "  ('education-num',[0]),\n",
        "  ('marital-status',['']),\n",
        "  ('occupation',['']),\n",
        "  ('relationship',['']),\n",
        "  ('race',['']),\n",
        "  ('sex',['']),\n",
        "  ('capital-gain',[0]),\n",
        "  ('capital-loss',[0]),\n",
        "  ('hours-per-week',[0]),\n",
        "  ('native-country',['']),\n",
        "  ('income',['']),\n",
        "])"
      ],
      "execution_count": 0,
      "outputs": []
    },
    {
      "metadata": {
        "id": "JbSlYqAruZnf",
        "colab_type": "code",
        "colab": {}
      },
      "cell_type": "code",
      "source": [
        "# Decode a line from the CSV.\n",
        "def csv_decoder(line):\n",
        "    \"\"\"Convert a CSV row to a dictonary of features.\"\"\"\n",
        "    parsed = tf.decode_csv(line, list(csv_defaults.values()))\n",
        "    return dict(zip(csv_defaults.keys(), parsed))\n",
        "\n",
        "# The train file has an extra empty line at the end.\n",
        "# We'll use this method to filter that out.\n",
        "def filter_empty_lines(line):\n",
        "    return tf.not_equal(tf.size(tf.string_split([line], ',').values), 0)\n",
        "\n",
        "def create_train_input_fn(path):\n",
        "    def input_fn():    \n",
        "        dataset = (\n",
        "            tf.contrib.data.TextLineDataset(path)  # create a dataset from a file\n",
        "                .filter(filter_empty_lines)  # ignore empty lines\n",
        "                .map(csv_decoder)  # parse each row\n",
        "                .shuffle(buffer_size=1000)  # shuffle the dataset\n",
        "                .repeat()  # repeate indefinitely\n",
        "                .batch(32)) # batch the data\n",
        "\n",
        "        # create iterator\n",
        "        columns = dataset.make_one_shot_iterator().get_next()\n",
        "        \n",
        "        # separate the label and convert it to true/false\n",
        "        income = tf.equal(columns.pop('income'),\" >50K\") \n",
        "        return columns, income\n",
        "    return input_fn\n",
        "\n",
        "def create_test_input_fn(path):\n",
        "    def input_fn():    \n",
        "        dataset = (\n",
        "            tf.contrib.data.TextLineDataset(path)\n",
        "                .skip(1) # The test file has a strange first line, we want to ignore this.\n",
        "                .filter(filter_empty_lines)\n",
        "                .map(csv_decoder)\n",
        "                .batch(32))\n",
        "\n",
        "        # create iterator\n",
        "        columns = dataset.make_one_shot_iterator().get_next()\n",
        "        \n",
        "        # separate the label and convert it to true/false\n",
        "        income = tf.equal(columns.pop('income'),\" >50K\") \n",
        "        return columns, income\n",
        "    return input_fn"
      ],
      "execution_count": 0,
      "outputs": []
    },
    {
      "metadata": {
        "id": "4EJwpUiDuZni",
        "colab_type": "text"
      },
      "cell_type": "markdown",
      "source": [
        "## Here's code you can use test the Dataset input functions"
      ]
    },
    {
      "metadata": {
        "id": "GMFBsg0SuZni",
        "colab_type": "code",
        "colab": {
          "base_uri": "https://localhost:8080/",
          "height": 411
        },
        "outputId": "b90cba36-2f9d-4817-ad75-6e7d90d86b8c"
      },
      "cell_type": "code",
      "source": [
        "train_input_fn = create_train_input_fn(census_train_path)\n",
        "next_batch = train_input_fn()\n",
        "\n",
        "with tf.Session() as sess:\n",
        "    features, label = sess.run(next_batch)\n",
        "    print(features['education'])\n",
        "    print(label)\n",
        "\n",
        "    print()\n",
        "\n",
        "    features, label = sess.run(next_batch)\n",
        "    print(features['education'])\n",
        "    print(label)"
      ],
      "execution_count": 32,
      "outputs": [
        {
          "output_type": "stream",
          "text": [
            "WARNING:tensorflow:From <ipython-input-31-5158b4cb3705>:14: __init__ (from tensorflow.contrib.data.python.ops.readers) is deprecated and will be removed in a future version.\n",
            "Instructions for updating:\n",
            "Use `tf.data.TextLineDataset`.\n",
            "[' Some-college' ' HS-grad' ' Bachelors' ' 7th-8th' ' Bachelors' ' HS-grad'\n",
            " ' HS-grad' ' HS-grad' ' HS-grad' ' 11th' ' Bachelors' ' HS-grad'\n",
            " ' Some-college' ' Some-college' ' HS-grad' ' HS-grad' ' Some-college'\n",
            " ' 11th' ' HS-grad' ' 5th-6th' ' 7th-8th' ' Bachelors' ' HS-grad'\n",
            " ' Doctorate' ' HS-grad' ' 7th-8th' ' Bachelors' ' Some-college' ' HS-grad'\n",
            " ' HS-grad' ' HS-grad' ' 7th-8th']\n",
            "[False False False False  True False False False False False False False\n",
            " False False False False False False False False False  True False  True\n",
            " False False  True False False False False  True]\n",
            "\n",
            "[' Some-college' ' HS-grad' ' HS-grad' ' HS-grad' ' Some-college'\n",
            " ' Some-college' ' HS-grad' ' Some-college' ' HS-grad' ' Doctorate'\n",
            " ' Bachelors' ' 11th' ' HS-grad' ' HS-grad' ' Some-college' ' HS-grad'\n",
            " ' Some-college' ' HS-grad' ' 7th-8th' ' HS-grad' ' HS-grad' ' Bachelors'\n",
            " ' Doctorate' ' HS-grad' ' HS-grad' ' HS-grad' ' HS-grad' ' HS-grad'\n",
            " ' Some-college' ' Assoc-voc' ' Some-college' ' HS-grad']\n",
            "[False  True  True False False False False False False  True  True False\n",
            " False False False False False False False False False  True False False\n",
            " False False False False False False False False]\n"
          ],
          "name": "stdout"
        }
      ]
    },
    {
      "metadata": {
        "id": "PjQzHtlMuZnl",
        "colab_type": "text"
      },
      "cell_type": "markdown",
      "source": [
        "From here, you can use the input functions to train and evaluate your Estimators. I'll add some minimal code to do this, just to show the mechanics."
      ]
    },
    {
      "metadata": {
        "id": "ctIyI9EOuZnm",
        "colab_type": "code",
        "colab": {
          "base_uri": "https://localhost:8080/",
          "height": 2111
        },
        "outputId": "f8d1bd03-0b5b-4b0b-9059-b3174ee40e9e"
      },
      "cell_type": "code",
      "source": [
        "train_input_fn = create_train_input_fn(census_train_path)\n",
        "test_input_fn = create_train_input_fn(census_test_path)\n",
        "\n",
        "feature_columns = [\n",
        "    tf.feature_column.numeric_column('age'),\n",
        "]\n",
        "\n",
        "estimator = tf.estimator.DNNClassifier(hidden_units=[256, 128, 64], \n",
        "                                       feature_columns=feature_columns, \n",
        "                                       n_classes=2, \n",
        "                                       # creating a new folder in case you haven't cleared \n",
        "                                       # the old one yet\n",
        "                                       model_dir='graphs_datasets/dnn')\n",
        "\n",
        "estimator.train(train_input_fn, steps=100)\n",
        "estimator.evaluate(train_input_fn, steps=100)"
      ],
      "execution_count": 33,
      "outputs": [
        {
          "output_type": "stream",
          "text": [
            "INFO:tensorflow:Using default config.\n",
            "INFO:tensorflow:Using config: {'_save_checkpoints_secs': 600, '_session_config': None, '_keep_checkpoint_max': 5, '_task_type': 'worker', '_is_chief': True, '_cluster_spec': <tensorflow.python.training.server_lib.ClusterSpec object at 0x7f18d9bcdd90>, '_save_checkpoints_steps': None, '_keep_checkpoint_every_n_hours': 10000, '_service': None, '_num_ps_replicas': 0, '_tf_random_seed': None, '_master': '', '_num_worker_replicas': 1, '_task_id': 0, '_log_step_count_steps': 100, '_model_dir': 'graphs_datasets/dnn', '_save_summary_steps': 100}\n",
            "INFO:tensorflow:Create CheckpointSaverHook.\n",
            "INFO:tensorflow:Saving checkpoints for 1 into graphs_datasets/dnn/model.ckpt.\n",
            "INFO:tensorflow:loss = 31.7345, step = 1\n",
            "INFO:tensorflow:Saving checkpoints for 100 into graphs_datasets/dnn/model.ckpt.\n",
            "INFO:tensorflow:Loss for final step: 19.0603.\n",
            "WARNING:tensorflow:Casting <dtype: 'float32'> labels to bool.\n",
            "WARNING:tensorflow:Casting <dtype: 'float32'> labels to bool.\n",
            "INFO:tensorflow:Starting evaluation at 2017-11-21-04:00:08\n",
            "INFO:tensorflow:Restoring parameters from graphs_datasets/dnn/model.ckpt-100\n",
            "INFO:tensorflow:Evaluation [1/100]\n",
            "INFO:tensorflow:Evaluation [2/100]\n",
            "INFO:tensorflow:Evaluation [3/100]\n",
            "INFO:tensorflow:Evaluation [4/100]\n",
            "INFO:tensorflow:Evaluation [5/100]\n",
            "INFO:tensorflow:Evaluation [6/100]\n",
            "INFO:tensorflow:Evaluation [7/100]\n",
            "INFO:tensorflow:Evaluation [8/100]\n",
            "INFO:tensorflow:Evaluation [9/100]\n",
            "INFO:tensorflow:Evaluation [10/100]\n",
            "INFO:tensorflow:Evaluation [11/100]\n",
            "INFO:tensorflow:Evaluation [12/100]\n",
            "INFO:tensorflow:Evaluation [13/100]\n",
            "INFO:tensorflow:Evaluation [14/100]\n",
            "INFO:tensorflow:Evaluation [15/100]\n",
            "INFO:tensorflow:Evaluation [16/100]\n",
            "INFO:tensorflow:Evaluation [17/100]\n",
            "INFO:tensorflow:Evaluation [18/100]\n",
            "INFO:tensorflow:Evaluation [19/100]\n",
            "INFO:tensorflow:Evaluation [20/100]\n",
            "INFO:tensorflow:Evaluation [21/100]\n",
            "INFO:tensorflow:Evaluation [22/100]\n",
            "INFO:tensorflow:Evaluation [23/100]\n",
            "INFO:tensorflow:Evaluation [24/100]\n",
            "INFO:tensorflow:Evaluation [25/100]\n",
            "INFO:tensorflow:Evaluation [26/100]\n",
            "INFO:tensorflow:Evaluation [27/100]\n",
            "INFO:tensorflow:Evaluation [28/100]\n",
            "INFO:tensorflow:Evaluation [29/100]\n",
            "INFO:tensorflow:Evaluation [30/100]\n",
            "INFO:tensorflow:Evaluation [31/100]\n",
            "INFO:tensorflow:Evaluation [32/100]\n",
            "INFO:tensorflow:Evaluation [33/100]\n",
            "INFO:tensorflow:Evaluation [34/100]\n",
            "INFO:tensorflow:Evaluation [35/100]\n",
            "INFO:tensorflow:Evaluation [36/100]\n",
            "INFO:tensorflow:Evaluation [37/100]\n",
            "INFO:tensorflow:Evaluation [38/100]\n",
            "INFO:tensorflow:Evaluation [39/100]\n",
            "INFO:tensorflow:Evaluation [40/100]\n",
            "INFO:tensorflow:Evaluation [41/100]\n",
            "INFO:tensorflow:Evaluation [42/100]\n",
            "INFO:tensorflow:Evaluation [43/100]\n",
            "INFO:tensorflow:Evaluation [44/100]\n",
            "INFO:tensorflow:Evaluation [45/100]\n",
            "INFO:tensorflow:Evaluation [46/100]\n"
          ],
          "name": "stdout"
        },
        {
          "output_type": "stream",
          "text": [
            "INFO:tensorflow:Evaluation [47/100]\n",
            "INFO:tensorflow:Evaluation [48/100]\n",
            "INFO:tensorflow:Evaluation [49/100]\n",
            "INFO:tensorflow:Evaluation [50/100]\n",
            "INFO:tensorflow:Evaluation [51/100]\n",
            "INFO:tensorflow:Evaluation [52/100]\n",
            "INFO:tensorflow:Evaluation [53/100]\n",
            "INFO:tensorflow:Evaluation [54/100]\n",
            "INFO:tensorflow:Evaluation [55/100]\n",
            "INFO:tensorflow:Evaluation [56/100]\n",
            "INFO:tensorflow:Evaluation [57/100]\n",
            "INFO:tensorflow:Evaluation [58/100]\n",
            "INFO:tensorflow:Evaluation [59/100]\n",
            "INFO:tensorflow:Evaluation [60/100]\n",
            "INFO:tensorflow:Evaluation [61/100]\n",
            "INFO:tensorflow:Evaluation [62/100]\n",
            "INFO:tensorflow:Evaluation [63/100]\n",
            "INFO:tensorflow:Evaluation [64/100]\n",
            "INFO:tensorflow:Evaluation [65/100]\n",
            "INFO:tensorflow:Evaluation [66/100]\n",
            "INFO:tensorflow:Evaluation [67/100]\n",
            "INFO:tensorflow:Evaluation [68/100]\n",
            "INFO:tensorflow:Evaluation [69/100]\n",
            "INFO:tensorflow:Evaluation [70/100]\n",
            "INFO:tensorflow:Evaluation [71/100]\n",
            "INFO:tensorflow:Evaluation [72/100]\n",
            "INFO:tensorflow:Evaluation [73/100]\n",
            "INFO:tensorflow:Evaluation [74/100]\n",
            "INFO:tensorflow:Evaluation [75/100]\n",
            "INFO:tensorflow:Evaluation [76/100]\n",
            "INFO:tensorflow:Evaluation [77/100]\n",
            "INFO:tensorflow:Evaluation [78/100]\n",
            "INFO:tensorflow:Evaluation [79/100]\n",
            "INFO:tensorflow:Evaluation [80/100]\n",
            "INFO:tensorflow:Evaluation [81/100]\n",
            "INFO:tensorflow:Evaluation [82/100]\n",
            "INFO:tensorflow:Evaluation [83/100]\n",
            "INFO:tensorflow:Evaluation [84/100]\n",
            "INFO:tensorflow:Evaluation [85/100]\n",
            "INFO:tensorflow:Evaluation [86/100]\n",
            "INFO:tensorflow:Evaluation [87/100]\n",
            "INFO:tensorflow:Evaluation [88/100]\n",
            "INFO:tensorflow:Evaluation [89/100]\n",
            "INFO:tensorflow:Evaluation [90/100]\n",
            "INFO:tensorflow:Evaluation [91/100]\n",
            "INFO:tensorflow:Evaluation [92/100]\n",
            "INFO:tensorflow:Evaluation [93/100]\n",
            "INFO:tensorflow:Evaluation [94/100]\n",
            "INFO:tensorflow:Evaluation [95/100]\n",
            "INFO:tensorflow:Evaluation [96/100]\n",
            "INFO:tensorflow:Evaluation [97/100]\n",
            "INFO:tensorflow:Evaluation [98/100]\n",
            "INFO:tensorflow:Evaluation [99/100]\n",
            "INFO:tensorflow:Evaluation [100/100]\n",
            "INFO:tensorflow:Finished evaluation at 2017-11-21-04:00:11\n",
            "INFO:tensorflow:Saving dict for global step 100: accuracy = 0.754062, accuracy_baseline = 0.754063, auc = 0.429011, auc_precision_recall = 0.460583, average_loss = 0.558532, global_step = 100, label/mean = 0.245937, loss = 17.873, prediction/mean = 0.256476\n"
          ],
          "name": "stdout"
        },
        {
          "output_type": "execute_result",
          "data": {
            "text/plain": [
              "{'accuracy': 0.75406247,\n",
              " 'accuracy_baseline': 0.75406253,\n",
              " 'auc': 0.4290109,\n",
              " 'auc_precision_recall': 0.46058333,\n",
              " 'average_loss': 0.55853224,\n",
              " 'global_step': 100,\n",
              " 'label/mean': 0.2459375,\n",
              " 'loss': 17.873032,\n",
              " 'prediction/mean': 0.25647599}"
            ]
          },
          "metadata": {
            "tags": []
          },
          "execution_count": 33
        }
      ]
    },
    {
      "metadata": {
        "id": "Op6OK1p5uZnr",
        "colab_type": "text"
      },
      "cell_type": "markdown",
      "source": [
        "This would be a good time to clean up the logs and checkpoints on disk, by deleting ```./graphs``` and ```./graphs_datasets```."
      ]
    },
    {
      "metadata": {
        "id": "caVJAb27uZnr",
        "colab_type": "text"
      },
      "cell_type": "markdown",
      "source": [
        "## Next steps\n",
        "\n",
        "## Learn more about Feature Engineering\n",
        "\n",
        "Check out the [Wide and Deep tutorial](https://www.tensorflow.org/tutorials/wide_and_deep) which shows how to combine a Linear Classifier and Deep Neural Network, so you can take advantage of the best features for each. Bonus: that tutorial contains another kind of Estimator you can use.\n",
        "\n",
        "## Learn more about Datasets\n",
        "\n",
        "Check out the [programmers guide](https://www.tensorflow.org/programmers_guide/datasets), and check back after v1.4 is released for the Dataset.from_generator method, which I think will improve productivity a lot."
      ]
    }
  ]
}