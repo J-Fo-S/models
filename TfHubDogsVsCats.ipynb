{
  "nbformat": 4,
  "nbformat_minor": 0,
  "metadata": {
    "colab": {
      "name": "TfHubDogsVsCats.ipynb",
      "version": "0.3.2",
      "provenance": [],
      "collapsed_sections": []
    },
    "kernelspec": {
      "display_name": "Python 3",
      "language": "python",
      "name": "python3"
    },
    "accelerator": "GPU"
  },
  "cells": [
    {
      "cell_type": "markdown",
      "metadata": {
        "id": "view-in-github",
        "colab_type": "text"
      },
      "source": [
        "[View in Colaboratory](https://colab.research.google.com/github/J-Fo-S/models/blob/master/TfHubDogsVsCats.ipynb)"
      ]
    },
    {
      "metadata": {
        "id": "yyrWPiiHyT2W",
        "colab_type": "text"
      },
      "cell_type": "markdown",
      "source": [
        "# Image classification using TensorFlow estimators and TensorFlow Hub for transfer learning"
      ]
    },
    {
      "metadata": {
        "id": "MImaq1-xzVPo",
        "colab_type": "text"
      },
      "cell_type": "markdown",
      "source": [
        "*This notebook is available [as a codelab](https://colab.research.google.com/github/damienpontifex/BlogCodeSamples/TransferLearning/TfHubDogsVsCats.ipynb)*"
      ]
    },
    {
      "metadata": {
        "id": "aHY_cwkI6x7I",
        "colab_type": "text"
      },
      "cell_type": "markdown",
      "source": [
        "TensorFlow Hub was [announced](https://www.youtube.com/watch?v=rirzJ-e68cw) at TensorFlow Dev Summit 2018 and promises to reduce the effort required to use existing machine learning models and weights in your own custom model. From the [overview page](https://www.tensorflow.org/hub/)\n",
        "\n",
        "> TensorFlow Hub is a library to foster the publication, discovery, and consumption of reusable parts of machine learning models. A module is a self-contained piece of a TensorFlow graph, along with its weights and assets, that can be reused across different tasks in a process known as transfer learning.\n",
        "\n",
        "Dogs vs Cats is a great classification problem to learn about transfer learning and is the [first lesson of the fast.ai course](http://course.fast.ai/lessons/lesson1.html) and was hosted on Kaggle. The teaching is if you can achieve transfer learning for this two-class problem of cats and dogs, you can do it for any *n*-class problem for your own solution."
      ]
    },
    {
      "metadata": {
        "id": "f7Jo3IYu6x7J",
        "colab_type": "text"
      },
      "cell_type": "markdown",
      "source": [
        "### Prerequisites"
      ]
    },
    {
      "metadata": {
        "id": "iE9WSfLX6x7K",
        "colab_type": "text"
      },
      "cell_type": "markdown",
      "source": [
        "You will need to install TensorFlow Hub from pip and have at least TensorFlow version 1.7. I'm also assuming you have some understanding (although not required but will be in this code) of TensorFlow and machine learning, mainly:\n",
        "* Data preparation\n",
        "* tf.data input\n",
        "* TensorFlow estimators\n",
        "\n",
        "To ensure you've got the libraries installed run:"
      ]
    },
    {
      "metadata": {
        "id": "yCwJabwe6x7L",
        "colab_type": "code",
        "colab": {}
      },
      "cell_type": "code",
      "source": [
        "%%bash \n",
        "# pip3 install -qU tensorflow>=1.7.0 # Don't run this on Google's colab as you probably want to use the version they have pre-installed\n",
        "pip3 install -q tensorflow-hub"
      ],
      "execution_count": 0,
      "outputs": []
    },
    {
      "metadata": {
        "id": "UZceGmWw6x7P",
        "colab_type": "text"
      },
      "cell_type": "markdown",
      "source": [
        "Just some usual imports and matplotlib setup for notebooks. And then just print out some information about our TensorFlow environment"
      ]
    },
    {
      "metadata": {
        "id": "xfWmW-C4yT2Z",
        "colab_type": "code",
        "colab": {}
      },
      "cell_type": "code",
      "source": [
        "import os\n",
        "from urllib import request\n",
        "import zipfile\n",
        "import matplotlib.pyplot as plt\n",
        "import tensorflow as tf\n",
        "import tensorflow_hub as hub\n",
        "from tensorflow.python import debug as tf_debug\n",
        "\n",
        "%matplotlib inline"
      ],
      "execution_count": 0,
      "outputs": []
    },
    {
      "metadata": {
        "id": "5CILIgB8yT2b",
        "colab_type": "code",
        "colab": {
          "base_uri": "https://localhost:8080/",
          "height": 34
        },
        "outputId": "61cbcfb8-9abc-44b3-9450-63e6755f146f"
      },
      "cell_type": "code",
      "source": [
        "tf.logging.info('TF Version {}'.format(tf.__version__))\n",
        "tf.logging.info('GPU Available {}'.format(tf.test.is_gpu_available()))\n",
        "if 'TF_CONFIG' in os.environ:\n",
        "    tf.logging.info('TF_CONFIG: {}'.format(os.environ[\"TF_CONFIG\"]))"
      ],
      "execution_count": 0,
      "outputs": [
        {
          "output_type": "stream",
          "text": [
            "INFO:tensorflow:TF Version 1.8.0\n",
            "INFO:tensorflow:GPU Available True\n"
          ],
          "name": "stdout"
        }
      ]
    },
    {
      "metadata": {
        "id": "L5EheCh86x7Z",
        "colab_type": "code",
        "colab": {}
      },
      "cell_type": "code",
      "source": [
        "data_directory = '/tmp'\n",
        "model_directory = '/afs/dogscats/run1'\n",
        "\n",
        "if not os.path.isdir(model_directory):\n",
        "    os.makedirs(model_directory)"
      ],
      "execution_count": 0,
      "outputs": []
    },
    {
      "metadata": {
        "id": "8YjIh_tV6x7b",
        "colab_type": "code",
        "colab": {}
      },
      "cell_type": "code",
      "source": [
        "# tf.app.flags.DEFINE_string('data_directory', '/tmp', 'The root directory to find the data')\n",
        "# tf.app.flags.DEFINE_string('model_directory', '/tmp/dogscats/run1', 'The directory where the model should be saved')\n",
        "# FLAGS = tf.app.flags.FLAGS"
      ],
      "execution_count": 0,
      "outputs": []
    },
    {
      "metadata": {
        "id": "uDKyHDlryT2Y",
        "colab_type": "text"
      },
      "cell_type": "markdown",
      "source": [
        "The Dogs vs Cats Kaggle competition is a two-class image classification problem. Transfer learning can be used to reduce the amount of computation and to reuse previously computed features of interest.\n",
        "\n",
        "For this, we'll look into the new TensorFlow Hub modules to train on our own dataset. First lets just grab, and have a look, at the data we've got."
      ]
    },
    {
      "metadata": {
        "id": "yBuHfgNEyT2g",
        "colab_type": "text"
      },
      "cell_type": "markdown",
      "source": [
        "## Data\n",
        "\n",
        "We will get the data from the fastai zip of the dogs and cats images. The file pattern on disk is to have each category of images labelled by placing all associated images into one folder. As such, we will have a folder named 'dogs' of all dog images and 'cats' of all cat images to train on."
      ]
    },
    {
      "metadata": {
        "id": "ZNCd9lh6yT2h",
        "colab_type": "text"
      },
      "cell_type": "markdown",
      "source": [
        "So that this notebook can be run anywhere, here we are just downloading the archive and placing it in a temporary local data directory"
      ]
    },
    {
      "metadata": {
        "id": "OkOoTig1yT2j",
        "colab_type": "code",
        "colab": {}
      },
      "cell_type": "code",
      "source": [
        "def get_data(local_data_root: str, is_chief: bool=True):\n",
        "    data_dir = os.path.join(local_data_root, 'datasets/dogscats')\n",
        "    \n",
        "    if is_chief:\n",
        "        if not os.path.isdir(data_dir):\n",
        "            # Download the data zip to our data directory and extract\n",
        "            fallback_url = 'http://files.fast.ai/data/dogscats.zip'\n",
        "            tf.keras.utils.get_file(\n",
        "                os.path.join('/tmp', os.path.basename(fallback_url)), \n",
        "                fallback_url, \n",
        "                cache_dir='/tmp',\n",
        "                extract=True)\n",
        "        \n",
        "    return data_dir"
      ],
      "execution_count": 0,
      "outputs": []
    },
    {
      "metadata": {
        "id": "YcOpFjru6x7l",
        "colab_type": "code",
        "colab": {},
        "outputId": "64c37ba1-e8b5-4721-93aa-0a117190525a"
      },
      "cell_type": "code",
      "source": [
        "data_dir = get_data(data_directory, True)"
      ],
      "execution_count": 0,
      "outputs": [
        {
          "output_type": "stream",
          "text": [
            "Downloading data from http://files.fast.ai/data/dogscats.zip\n",
            "857219072/857214334 [==============================] - 87s 0us/step\n"
          ],
          "name": "stdout"
        }
      ]
    },
    {
      "metadata": {
        "id": "-5IESSdvyT2m",
        "colab_type": "text"
      },
      "cell_type": "markdown",
      "source": [
        "Looking at what is in the data directory"
      ]
    },
    {
      "metadata": {
        "id": "UCGH9FF3yT2n",
        "colab_type": "code",
        "colab": {
          "base_uri": "https://localhost:8080/",
          "height": 34
        },
        "outputId": "7902240f-04c7-4da4-8826-3fb435d35c3c"
      },
      "cell_type": "code",
      "source": [
        "os.listdir(data_dir)"
      ],
      "execution_count": 0,
      "outputs": [
        {
          "output_type": "execute_result",
          "data": {
            "text/plain": [
              "['test1', 'valid', 'train', 'sample', 'models']"
            ]
          },
          "metadata": {
            "tags": []
          },
          "execution_count": 15
        }
      ]
    },
    {
      "metadata": {
        "id": "u8IaDYSI3Hwv",
        "colab_type": "text"
      },
      "cell_type": "markdown",
      "source": [
        "Look in the valid directory to see the image classes. Here we see we have a folder of dogs and another of cats."
      ]
    },
    {
      "metadata": {
        "id": "Q_p3NtYwyT2p",
        "colab_type": "code",
        "colab": {
          "base_uri": "https://localhost:8080/",
          "height": 34
        },
        "outputId": "188fdb69-7b2b-46fa-d3a5-8f12addf62e1"
      },
      "cell_type": "code",
      "source": [
        "os.listdir(os.path.join(data_dir, 'valid'))"
      ],
      "execution_count": 0,
      "outputs": [
        {
          "output_type": "execute_result",
          "data": {
            "text/plain": [
              "['dogs', 'cats']"
            ]
          },
          "metadata": {
            "tags": []
          },
          "execution_count": 16
        }
      ]
    },
    {
      "metadata": {
        "id": "4cucT-8nyT2r",
        "colab_type": "code",
        "colab": {
          "base_uri": "https://localhost:8080/",
          "height": 102
        },
        "outputId": "d9b7f633-aab8-48b3-c1e2-dbf5582774c3"
      },
      "cell_type": "code",
      "source": [
        "cats = os.listdir(os.path.join(data_dir, 'valid', 'cats'))[:5]\n",
        "cats"
      ],
      "execution_count": 0,
      "outputs": [
        {
          "output_type": "execute_result",
          "data": {
            "text/plain": [
              "['cat.3428.jpg',\n",
              " 'cat.8801.jpg',\n",
              " 'cat.5164.jpg',\n",
              " 'cat.9442.jpg',\n",
              " 'cat.1743.jpg']"
            ]
          },
          "metadata": {
            "tags": []
          },
          "execution_count": 17
        }
      ]
    },
    {
      "metadata": {
        "id": "0gPCjE11yT2x",
        "colab_type": "code",
        "colab": {
          "base_uri": "https://localhost:8080/",
          "height": 286
        },
        "outputId": "0af44482-472a-4f44-9b47-6f188d05ac25"
      },
      "cell_type": "code",
      "source": [
        "img = plt.imread(os.path.join(data_dir, 'valid', 'cats', cats[0]))\n",
        "plt.imshow(img)"
      ],
      "execution_count": 0,
      "outputs": [
        {
          "output_type": "execute_result",
          "data": {
            "text/plain": [
              "<matplotlib.image.AxesImage at 0x7f554595de48>"
            ]
          },
          "metadata": {
            "tags": []
          },
          "execution_count": 18
        },
        {
          "output_type": "display_data",
          "data": {
            "image/png": "[encoded data removed]",
            "text/plain": [
              "<Figure size 432x288 with 1 Axes>"
            ]
          },
          "metadata": {
            "tags": []
          }
        }
      ]
    },
    {
      "metadata": {
        "id": "AJpkogZuyT20",
        "colab_type": "code",
        "colab": {
          "base_uri": "https://localhost:8080/",
          "height": 34
        },
        "outputId": "ac667043-a1d4-4ad1-d718-e0cafeffb88a"
      },
      "cell_type": "code",
      "source": [
        "img.shape"
      ],
      "execution_count": 0,
      "outputs": [
        {
          "output_type": "execute_result",
          "data": {
            "text/plain": [
              "(394, 399, 3)"
            ]
          },
          "metadata": {
            "tags": []
          },
          "execution_count": 19
        }
      ]
    },
    {
      "metadata": {
        "id": "Fvc9MEvlyT22",
        "colab_type": "text"
      },
      "cell_type": "markdown",
      "source": [
        "## tf.data to access our dataset"
      ]
    },
    {
      "metadata": {
        "id": "Q0wBO0U3yT23",
        "colab_type": "text"
      },
      "cell_type": "markdown",
      "source": [
        "Our dataset input function is responsible for providing features and labels to the network. We will use a glob pattern via the `file_pattern` parameter to indicate the files on disk and return a dataset to use."
      ]
    },
    {
      "metadata": {
        "id": "sieNlv_06x8G",
        "colab_type": "code",
        "colab": {}
      },
      "cell_type": "code",
      "source": [
        "def _img_string_to_tensor(image_string, image_size=(299, 299)):\n",
        "    image_decoded = tf.image.decode_jpeg(image_string, channels=3)\n",
        "    # Convert from full range of uint8 to range [0,1] of float32.\n",
        "    image_decoded_as_float = tf.image.convert_image_dtype(image_decoded, dtype=tf.float32)\n",
        "    # Resize to expected\n",
        "    image_resized = tf.image.resize_images(image_decoded_as_float, size=image_size)\n",
        "    \n",
        "    return image_resized"
      ],
      "execution_count": 0,
      "outputs": []
    },
    {
      "metadata": {
        "id": "1NNmeWQhyT23",
        "colab_type": "code",
        "colab": {}
      },
      "cell_type": "code",
      "source": [
        "def make_input_fn(file_pattern, image_size=(299, 299), shuffle=False, batch_size=64, num_epochs=None, buffer_size=4096):\n",
        "    \n",
        "    def _path_to_img(path):\n",
        "        # Get the parent folder of this file to get it's class name\n",
        "        label = tf.string_split([path], delimiter='/').values[-2]\n",
        "        \n",
        "        # Read in the image from disk\n",
        "        image_string = tf.read_file(path)\n",
        "        image_resized = _img_string_to_tensor(image_string, image_size)\n",
        "        \n",
        "        return { 'image': image_resized }, label\n",
        "    \n",
        "    def _input_fn():\n",
        "      \n",
        "        dataset = tf.data.Dataset.list_files(file_pattern)\n",
        "\n",
        "        if shuffle:\n",
        "            dataset = dataset.apply(tf.contrib.data.shuffle_and_repeat(buffer_size, num_epochs))\n",
        "        else:\n",
        "            dataset = dataset.repeat(num_epochs)\n",
        "\n",
        "        dataset = dataset.map(_path_to_img, num_parallel_calls=os.cpu_count())\n",
        "        dataset = dataset.batch(batch_size).prefetch(buffer_size)\n",
        "\n",
        "        return dataset\n",
        "\n",
        "    return _input_fn"
      ],
      "execution_count": 0,
      "outputs": []
    },
    {
      "metadata": {
        "id": "n6Es-6sjyT26",
        "colab_type": "text"
      },
      "cell_type": "markdown",
      "source": [
        "## Our first model"
      ]
    },
    {
      "metadata": {
        "id": "wRZKeml15-iW",
        "colab_type": "text"
      },
      "cell_type": "markdown",
      "source": [
        "We're setting up an esimator `model_fn` so we can include the module as the base and then provide our own dense layer and activations to be trained for our use case. We're passing in the module spec (a string) via the `params` dictionary so we could swap out another image classification model easily.\n",
        "\n",
        "The highlight here for TensorFlow Hub and transfer learning are these lines:\n",
        "\n",
        "```python\n",
        "module = hub.Module(params['module_spec'], trainable=is_training, name=params['module_name'])\n",
        "bottleneck_tensor = module(features['image'])\n",
        "```\n",
        "\n",
        "We load up the module and specify whether we would like to fine tune it or not. Then pass in our image tensor to the module and get the output tensor as `bottleneck_tensor` to be used in further layers. If you see a diagram of the structure of some of these models, the simplification of this down to two lines is amazing!"
      ]
    },
    {
      "metadata": {
        "id": "FYAwIHlE4gfh",
        "colab_type": "code",
        "colab": {}
      },
      "cell_type": "code",
      "source": [
        "def model_fn(features, labels, mode, params):\n",
        "    is_training = mode == tf.estimator.ModeKeys.TRAIN\n",
        "\n",
        "    NUM_CLASSES = len(params['label_vocab'])\n",
        "\n",
        "    module = hub.Module(params['module_spec'], trainable=is_training and params['train_module'], name=params['module_name'])\n",
        "    bottleneck_tensor = module(features['image'])\n",
        "\n",
        "    with tf.name_scope('final_retrain_ops'):\n",
        "        logits = tf.layers.dense(bottleneck_tensor, units=1, trainable=is_training)\n",
        "\n",
        "    def train_op_fn(loss):\n",
        "        optimizer = tf.train.AdamOptimizer(learning_rate=params['learning_rate'])\n",
        "        return optimizer.minimize(loss, global_step=tf.train.get_global_step())\n",
        "\n",
        "    if NUM_CLASSES == 2:\n",
        "        head = tf.contrib.estimator.binary_classification_head(label_vocabulary=params['label_vocab'])\n",
        "    else:\n",
        "        head = tf.contrib.estimator.multi_class_head(n_classes=NUM_CLASSES, label_vocabulary=params['label_vocab'])\n",
        "\n",
        "    return head.create_estimator_spec(\n",
        "        features, mode, logits, labels, train_op_fn=train_op_fn\n",
        "    )"
      ],
      "execution_count": 0,
      "outputs": []
    },
    {
      "metadata": {
        "id": "T6Pqi5Ye6x8O",
        "colab_type": "text"
      },
      "cell_type": "markdown",
      "source": [
        "Finally, we setup our estimator as per usual:\n",
        "\n",
        "* Define some hyperparameters\n",
        "* Construct the estimator\n",
        "* `train_and_evaluate`\n",
        "\n",
        "And with that, we get distributed training and great device placement for data processing on the CPU and training on the GPU."
      ]
    },
    {
      "metadata": {
        "id": "fzrxTWnD9hBr",
        "colab_type": "code",
        "colab": {}
      },
      "cell_type": "code",
      "source": [
        "def train(_):\n",
        "    \n",
        "    run_config = tf.estimator.RunConfig()\n",
        "    \n",
        "    data_directory = get_data('/tmp', run_config.is_chief)\n",
        "\n",
        "    params = {\n",
        "        'module_spec': 'https://tfhub.dev/google/imagenet/resnet_v2_50/feature_vector/1',\n",
        "        'module_name': 'resnet_v2_50',\n",
        "        'learning_rate': 1e-3,\n",
        "        'train_module': False,  # Whether we want to finetune the module\n",
        "        'label_vocab': os.listdir(os.path.join(data_directory, 'valid'))\n",
        "    }\n",
        "\n",
        "    classifier = tf.estimator.Estimator(\n",
        "        model_fn=model_fn,\n",
        "        model_dir=model_directory,\n",
        "        config=run_config,\n",
        "        params=params\n",
        "    )\n",
        "\n",
        "    input_img_size = hub.get_expected_image_size(hub.Module(params['module_spec']))\n",
        "\n",
        "    train_files = os.path.join(data_directory, 'train', '**/*.jpg')\n",
        "    train_input_fn = make_input_fn(train_files, image_size=input_img_size, batch_size=8, shuffle=True)\n",
        "    train_spec = tf.estimator.TrainSpec(train_input_fn, max_steps=20)\n",
        "\n",
        "    eval_files = os.path.join(data_directory, 'valid', '**/*.jpg')\n",
        "    eval_input_fn = make_input_fn(eval_files, image_size=input_img_size, batch_size=1)\n",
        "    eval_spec = tf.estimator.EvalSpec(eval_input_fn)\n",
        "\n",
        "    tf.estimator.train_and_evaluate(classifier, train_spec, eval_spec)"
      ],
      "execution_count": 0,
      "outputs": []
    },
    {
      "metadata": {
        "id": "rYLgeNKc_SX_",
        "colab_type": "code",
        "colab": {}
      },
      "cell_type": "code",
      "source": [
        "if __name__ == '__main__':\n",
        "    tf.app.run(main=train)"
      ],
      "execution_count": 0,
      "outputs": []
    },
    {
      "metadata": {
        "id": "PlrHicQFKKYQ",
        "colab_type": "code",
        "colab": {}
      },
      "cell_type": "code",
      "source": [
        "## Conclusion"
      ],
      "execution_count": 0,
      "outputs": []
    },
    {
      "metadata": {
        "id": "oNXcp2tt6x8Y",
        "colab_type": "text"
      },
      "cell_type": "markdown",
      "source": [
        "TensorFlow Hub will significantely increase the approachability for people to use complex models from others for their own specific task. The ability to fine tune while also using as is continues to democritize everyone's use of ML tools."
      ]
    },
    {
      "metadata": {
        "id": "3zUUoyC06x8Y",
        "colab_type": "code",
        "colab": {}
      },
      "cell_type": "code",
      "source": [
        ""
      ],
      "execution_count": 0,
      "outputs": []
    }
  ]
}