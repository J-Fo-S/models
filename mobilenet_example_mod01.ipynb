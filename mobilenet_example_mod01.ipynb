{
  "nbformat": 4,
  "nbformat_minor": 0,
  "metadata": {
    "colab": {
      "name": "mobilenet_example_mod.ipynb",
      "version": "0.3.2",
      "provenance": [],
      "collapsed_sections": [
        "T_cETKXHDTXu"
      ],
      "include_colab_link": true
    },
    "kernelspec": {
      "display_name": "Python 3",
      "name": "python3"
    },
    "accelerator": "GPU"
  },
  "cells": [
    {
      "cell_type": "markdown",
      "metadata": {
        "id": "view-in-github",
        "colab_type": "text"
      },
      "source": [
        "[View in Colaboratory](https://colab.research.google.com/github/J-Fo-S/models/blob/master/mobilenet_example_mod01.ipynb)"
      ]
    },
    {
      "metadata": {
        "id": "aUVxY7xOGD1G",
        "colab_type": "toc"
      },
      "cell_type": "markdown",
      "source": [
        ">[Prerequisites (downloading tensorflow_models and checkpoints)](#scrollTo=T_cETKXHDTXu)\n",
        "\n",
        ">[Checkpoint based inference](#scrollTo=fxMe7_pkk_Vo)\n",
        "\n",
        ">[Adversarial Hack](#scrollTo=PlwvpK3ElBk6)\n",
        "\n",
        "https://github.com/tensorflow/models/tree/master/research/slim/nets/mobilenet\n"
      ]
    },
    {
      "metadata": {
        "id": "T_cETKXHDTXu",
        "colab_type": "text"
      },
      "cell_type": "markdown",
      "source": [
        "# Prerequisites (downloading tensorflow_models and checkpoints)"
      ]
    },
    {
      "metadata": {
        "id": "zo5GyseklSVH",
        "colab_type": "code",
        "colab": {
          "base_uri": "https://localhost:8080/",
          "height": 35
        },
        "outputId": "fb265cfa-a4d6-4a70-8105-3522ddcba8dc"
      },
      "cell_type": "code",
      "source": [
        "!git clone https://github.com/tensorflow/models"
      ],
      "execution_count": 713,
      "outputs": [
        {
          "output_type": "stream",
          "text": [
            "fatal: destination path 'models' already exists and is not an empty directory.\r\n"
          ],
          "name": "stdout"
        }
      ]
    },
    {
      "metadata": {
        "id": "obaW6O8bz3mA",
        "colab_type": "code",
        "colab": {
          "base_uri": "https://localhost:8080/",
          "height": 55
        },
        "outputId": "765f923c-ef5b-4272-ed54-3fb272a278a2"
      },
      "cell_type": "code",
      "source": [
        "from __future__ import print_function\n",
        "from IPython import display\n",
        "import numpy as np\n",
        "import matplotlib.pyplot as plt\n",
        "\n",
        "from PIL import Image\n",
        "\n",
        "checkpoint_name = 'mobilenet_v2_1.0_224' #@param\n",
        "url = 'https://storage.googleapis.com/mobilenet_v2/checkpoints/' + checkpoint_name + '.tgz'\n",
        "print('Downloading from ', url)\n",
        "!wget {url}\n",
        "print('Unpacking')\n",
        "!tar -xvf {checkpoint_name}.tgz\n",
        "checkpoint = checkpoint_name + '.ckpt'\n",
        "\n",
        "display.clear_output()\n",
        "print('Successfully downloaded checkpoint from ', url,\n",
        "      '. It is available as', checkpoint)\n"
      ],
      "execution_count": 714,
      "outputs": [
        {
          "output_type": "stream",
          "text": [
            "Successfully downloaded checkpoint from  https://storage.googleapis.com/mobilenet_v2/checkpoints/mobilenet_v2_1.0_224.tgz . It is available as mobilenet_v2_1.0_224.ckpt\n"
          ],
          "name": "stdout"
        }
      ]
    },
    {
      "metadata": {
        "id": "qZDfLegf3hpw",
        "colab_type": "code",
        "colab": {
          "base_uri": "https://localhost:8080/",
          "height": 215
        },
        "outputId": "17fa233f-94dc-41dc-cfb0-0480be753d02"
      },
      "cell_type": "code",
      "source": [
        "!wget https://upload.wikimedia.org/wikipedia/commons/f/fe/Giant_Panda_in_Beijing_Zoo_1.JPG -O panda.jpg"
      ],
      "execution_count": 715,
      "outputs": [
        {
          "output_type": "stream",
          "text": [
            "--2018-07-11 19:10:13--  https://upload.wikimedia.org/wikipedia/commons/f/fe/Giant_Panda_in_Beijing_Zoo_1.JPG\r\n",
            "Resolving upload.wikimedia.org (upload.wikimedia.org)... 208.80.154.240, 2620:0:861:ed1a::2:b\n",
            "Connecting to upload.wikimedia.org (upload.wikimedia.org)|208.80.154.240|:443... connected.\n",
            "HTTP request sent, awaiting response... 200 OK\n",
            "Length: 116068 (113K) [image/jpeg]\n",
            "Saving to: ‘panda.jpg’\n",
            "\n",
            "panda.jpg           100%[===================>] 113.35K  --.-KB/s    in 0.03s   \n",
            "\n",
            "2018-07-11 19:10:14 (3.31 MB/s) - ‘panda.jpg’ saved [116068/116068]\n",
            "\n"
          ],
          "name": "stdout"
        }
      ]
    },
    {
      "metadata": {
        "id": "g0H2RDadndug",
        "colab_type": "code",
        "colab": {}
      },
      "cell_type": "code",
      "source": [
        "# setup path\n",
        "import sys\n",
        "sys.path.append('/content/models/research/slim')"
      ],
      "execution_count": 0,
      "outputs": []
    },
    {
      "metadata": {
        "id": "fxMe7_pkk_Vo",
        "colab_type": "text"
      },
      "cell_type": "markdown",
      "source": [
        "# Checkpoint based inference"
      ]
    },
    {
      "metadata": {
        "id": "GrQemT66CxXt",
        "colab_type": "code",
        "colab": {
          "base_uri": "https://localhost:8080/",
          "height": 91
        },
        "outputId": "c3dc3c59-ed97-41ee-d594-be8e4d297bc3"
      },
      "cell_type": "code",
      "source": [
        "import tensorflow as tf\n",
        "from nets.mobilenet import mobilenet_v2\n",
        "\n",
        "tf.reset_default_graph()\n",
        "\n",
        "# For simplicity we just decode jpeg inside tensorflow.\n",
        "# But one can provide any input obviously.\n",
        "file_input = tf.placeholder(tf.string, (), name=\"input\")\n",
        "\n",
        "image = tf.image.decode_jpeg(tf.read_file(file_input))\n",
        "#image_dec = np.asarray(PIL.Image.open('panda.jpg'))\n",
        "\n",
        "images = tf.expand_dims(image, 0)\n",
        "images = tf.cast(images, tf.float32) / 128.  - 1\n",
        "images.set_shape((None, None, None, 3))\n",
        "images = tf.image.resize_images(images, (224, 224))\n",
        "\n",
        "\n",
        "# Note: arg_scope is optional for inference.\n",
        "with tf.contrib.slim.arg_scope(mobilenet_v2.training_scope(is_training=False)):\n",
        "  logits, endpoints = mobilenet_v2.mobilenet(images)\n",
        "  pl_cls_target = tf.placeholder(dtype=tf.int32)\n",
        "\n",
        "  # Add a new loss-function. This is the cross-entropy.\n",
        "  # See Tutorial #01 for an explanation of cross-entropy.\n",
        "  loss = tf.nn.sparse_softmax_cross_entropy_with_logits(logits=logits, labels=[pl_cls_target])\n",
        "\n",
        "  # Get the gradient for the loss-function with regard to\n",
        "  # the resized input image.\n",
        "  #off_x = endpoints['layer_1'].eval(feed_dict={file_input: 'panda.jpg'})\n",
        "  \n",
        "  #t_off_x = tf.get_variable(off_x, name='off_x')\n",
        "  \n",
        "  gradient = tf.gradients(loss, endpoints['layer_1'])\n",
        "  print(tf.get_default_graph())\n",
        "  print(gradient)\n",
        "  print(tf.get_default_graph())\n",
        "  \n",
        "# Restore using exponential moving average since it produces (1.5-2%) higher \n",
        "# accuracy\n",
        "ema = tf.train.ExponentialMovingAverage(0.999)\n",
        "vars = ema.variables_to_restore()\n",
        "\n",
        "saver = tf.train.Saver(vars)  "
      ],
      "execution_count": 717,
      "outputs": [
        {
          "output_type": "stream",
          "text": [
            "<tensorflow.python.framework.ops.Graph object at 0x7fef2f17b860>\n",
            "[<tf.Tensor 'gradients/MobilenetV2/expanded_conv/depthwise/depthwise_grad/DepthwiseConv2dNativeBackpropInput:0' shape=(1, 112, 112, 32) dtype=float32>]\n",
            "<tensorflow.python.framework.ops.Graph object at 0x7fef2f17b860>\n"
          ],
          "name": "stdout"
        }
      ]
    },
    {
      "metadata": {
        "id": "TJbLYo_FCxXy",
        "colab_type": "code",
        "colab": {
          "base_uri": "https://localhost:8080/",
          "height": 55
        },
        "outputId": "c3114d06-54b5-4947-8ed7-aa2c411d2b5b"
      },
      "cell_type": "code",
      "source": [
        "\"\"\"\n",
        "from IPython import display\n",
        "import pylab\n",
        "from datasets import imagenet\n",
        "import PIL\n",
        "display.display(display.Image('panda.jpg'))\n",
        "\n",
        "with tf.Session() as sess:\n",
        "  saver.restore(sess,  checkpoint)\n",
        "  x = endpoints['Predictions'].eval(feed_dict={file_input: 'panda.jpg'})\n",
        "  print(tf.get_default_graph())\n",
        "  \n",
        "label_map = imagenet.create_readable_names_for_imagenet_labels()  \n",
        "print(\"Top 1 prediction: \", x.argmax(),label_map[x.argmax()], x.max())\n",
        "\"\"\""
      ],
      "execution_count": 718,
      "outputs": [
        {
          "output_type": "execute_result",
          "data": {
            "text/plain": [
              "'\\nfrom IPython import display\\nimport pylab\\nfrom datasets import imagenet\\nimport PIL\\ndisplay.display(display.Image(\\'panda.jpg\\'))\\n\\nwith tf.Session() as sess:\\n  saver.restore(sess,  checkpoint)\\n  x = endpoints[\\'Predictions\\'].eval(feed_dict={file_input: \\'panda.jpg\\'})\\n  print(tf.get_default_graph())\\n  \\nlabel_map = imagenet.create_readable_names_for_imagenet_labels()  \\nprint(\"Top 1 prediction: \", x.argmax(),label_map[x.argmax()], x.max())\\n'"
            ]
          },
          "metadata": {
            "tags": []
          },
          "execution_count": 718
        }
      ]
    },
    {
      "metadata": {
        "id": "PlwvpK3ElBk6",
        "colab_type": "text"
      },
      "cell_type": "markdown",
      "source": [
        "# Adversarial Hack"
      ]
    },
    {
      "metadata": {
        "id": "lIgqKf2eQdv9",
        "colab_type": "code",
        "colab": {
          "base_uri": "https://localhost:8080/",
          "height": 35
        },
        "outputId": "ce6e5de8-e7b7-4b49-ebc4-20b446b2fc12"
      },
      "cell_type": "code",
      "source": [
        "print(logits)"
      ],
      "execution_count": 719,
      "outputs": [
        {
          "output_type": "stream",
          "text": [
            "Tensor(\"MobilenetV2/Logits/output:0\", shape=(1, 1001), dtype=float32)\n"
          ],
          "name": "stdout"
        }
      ]
    },
    {
      "metadata": {
        "id": "0n8yaqcyP8mn",
        "colab_type": "code",
        "colab": {
          "base_uri": "https://localhost:8080/",
          "height": 55
        },
        "outputId": "8f34f1eb-b7ac-4dbd-865c-13773078f29a"
      },
      "cell_type": "code",
      "source": [
        "print(endpoints)"
      ],
      "execution_count": 720,
      "outputs": [
        {
          "output_type": "stream",
          "text": [
            "{'layer_1': <tf.Tensor 'MobilenetV2/Conv/Relu6:0' shape=(1, 112, 112, 32) dtype=float32>, 'layer_2': <tf.Tensor 'MobilenetV2/expanded_conv/output:0' shape=(1, 112, 112, 16) dtype=float32>, 'layer_3': <tf.Tensor 'MobilenetV2/expanded_conv_1/output:0' shape=(1, 56, 56, 24) dtype=float32>, 'layer_4': <tf.Tensor 'MobilenetV2/expanded_conv_2/output:0' shape=(1, 56, 56, 24) dtype=float32>, 'layer_5': <tf.Tensor 'MobilenetV2/expanded_conv_3/output:0' shape=(1, 28, 28, 32) dtype=float32>, 'layer_6': <tf.Tensor 'MobilenetV2/expanded_conv_4/output:0' shape=(1, 28, 28, 32) dtype=float32>, 'layer_7': <tf.Tensor 'MobilenetV2/expanded_conv_5/output:0' shape=(1, 28, 28, 32) dtype=float32>, 'layer_8': <tf.Tensor 'MobilenetV2/expanded_conv_6/output:0' shape=(1, 14, 14, 64) dtype=float32>, 'layer_9': <tf.Tensor 'MobilenetV2/expanded_conv_7/output:0' shape=(1, 14, 14, 64) dtype=float32>, 'layer_10': <tf.Tensor 'MobilenetV2/expanded_conv_8/output:0' shape=(1, 14, 14, 64) dtype=float32>, 'layer_11': <tf.Tensor 'MobilenetV2/expanded_conv_9/output:0' shape=(1, 14, 14, 64) dtype=float32>, 'layer_12': <tf.Tensor 'MobilenetV2/expanded_conv_10/output:0' shape=(1, 14, 14, 96) dtype=float32>, 'layer_13': <tf.Tensor 'MobilenetV2/expanded_conv_11/output:0' shape=(1, 14, 14, 96) dtype=float32>, 'layer_14': <tf.Tensor 'MobilenetV2/expanded_conv_12/output:0' shape=(1, 14, 14, 96) dtype=float32>, 'layer_15': <tf.Tensor 'MobilenetV2/expanded_conv_13/output:0' shape=(1, 7, 7, 160) dtype=float32>, 'layer_16': <tf.Tensor 'MobilenetV2/expanded_conv_14/output:0' shape=(1, 7, 7, 160) dtype=float32>, 'layer_17': <tf.Tensor 'MobilenetV2/expanded_conv_15/output:0' shape=(1, 7, 7, 160) dtype=float32>, 'layer_18': <tf.Tensor 'MobilenetV2/expanded_conv_16/output:0' shape=(1, 7, 7, 320) dtype=float32>, 'layer_19': <tf.Tensor 'MobilenetV2/Conv_1/Relu6:0' shape=(1, 7, 7, 1280) dtype=float32>, 'layer_2/depthwise_output': <tf.Tensor 'MobilenetV2/expanded_conv/depthwise_output:0' shape=(1, 112, 112, 32) dtype=float32>, 'layer_2/output': <tf.Tensor 'MobilenetV2/expanded_conv/output:0' shape=(1, 112, 112, 16) dtype=float32>, 'layer_3/expansion_output': <tf.Tensor 'MobilenetV2/expanded_conv_1/expansion_output:0' shape=(1, 112, 112, 96) dtype=float32>, 'layer_3/depthwise_output': <tf.Tensor 'MobilenetV2/expanded_conv_1/depthwise_output:0' shape=(1, 56, 56, 96) dtype=float32>, 'layer_3/output': <tf.Tensor 'MobilenetV2/expanded_conv_1/output:0' shape=(1, 56, 56, 24) dtype=float32>, 'layer_4/expansion_output': <tf.Tensor 'MobilenetV2/expanded_conv_2/expansion_output:0' shape=(1, 56, 56, 144) dtype=float32>, 'layer_4/depthwise_output': <tf.Tensor 'MobilenetV2/expanded_conv_2/depthwise_output:0' shape=(1, 56, 56, 144) dtype=float32>, 'layer_4/output': <tf.Tensor 'MobilenetV2/expanded_conv_2/output:0' shape=(1, 56, 56, 24) dtype=float32>, 'layer_5/expansion_output': <tf.Tensor 'MobilenetV2/expanded_conv_3/expansion_output:0' shape=(1, 56, 56, 144) dtype=float32>, 'layer_5/depthwise_output': <tf.Tensor 'MobilenetV2/expanded_conv_3/depthwise_output:0' shape=(1, 28, 28, 144) dtype=float32>, 'layer_5/output': <tf.Tensor 'MobilenetV2/expanded_conv_3/output:0' shape=(1, 28, 28, 32) dtype=float32>, 'layer_6/expansion_output': <tf.Tensor 'MobilenetV2/expanded_conv_4/expansion_output:0' shape=(1, 28, 28, 192) dtype=float32>, 'layer_6/depthwise_output': <tf.Tensor 'MobilenetV2/expanded_conv_4/depthwise_output:0' shape=(1, 28, 28, 192) dtype=float32>, 'layer_6/output': <tf.Tensor 'MobilenetV2/expanded_conv_4/output:0' shape=(1, 28, 28, 32) dtype=float32>, 'layer_7/expansion_output': <tf.Tensor 'MobilenetV2/expanded_conv_5/expansion_output:0' shape=(1, 28, 28, 192) dtype=float32>, 'layer_7/depthwise_output': <tf.Tensor 'MobilenetV2/expanded_conv_5/depthwise_output:0' shape=(1, 28, 28, 192) dtype=float32>, 'layer_7/output': <tf.Tensor 'MobilenetV2/expanded_conv_5/output:0' shape=(1, 28, 28, 32) dtype=float32>, 'layer_8/expansion_output': <tf.Tensor 'MobilenetV2/expanded_conv_6/expansion_output:0' shape=(1, 28, 28, 192) dtype=float32>, 'layer_8/depthwise_output': <tf.Tensor 'MobilenetV2/expanded_conv_6/depthwise_output:0' shape=(1, 14, 14, 192) dtype=float32>, 'layer_8/output': <tf.Tensor 'MobilenetV2/expanded_conv_6/output:0' shape=(1, 14, 14, 64) dtype=float32>, 'layer_9/expansion_output': <tf.Tensor 'MobilenetV2/expanded_conv_7/expansion_output:0' shape=(1, 14, 14, 384) dtype=float32>, 'layer_9/depthwise_output': <tf.Tensor 'MobilenetV2/expanded_conv_7/depthwise_output:0' shape=(1, 14, 14, 384) dtype=float32>, 'layer_9/output': <tf.Tensor 'MobilenetV2/expanded_conv_7/output:0' shape=(1, 14, 14, 64) dtype=float32>, 'layer_10/expansion_output': <tf.Tensor 'MobilenetV2/expanded_conv_8/expansion_output:0' shape=(1, 14, 14, 384) dtype=float32>, 'layer_10/depthwise_output': <tf.Tensor 'MobilenetV2/expanded_conv_8/depthwise_output:0' shape=(1, 14, 14, 384) dtype=float32>, 'layer_10/output': <tf.Tensor 'MobilenetV2/expanded_conv_8/output:0' shape=(1, 14, 14, 64) dtype=float32>, 'layer_11/expansion_output': <tf.Tensor 'MobilenetV2/expanded_conv_9/expansion_output:0' shape=(1, 14, 14, 384) dtype=float32>, 'layer_11/depthwise_output': <tf.Tensor 'MobilenetV2/expanded_conv_9/depthwise_output:0' shape=(1, 14, 14, 384) dtype=float32>, 'layer_11/output': <tf.Tensor 'MobilenetV2/expanded_conv_9/output:0' shape=(1, 14, 14, 64) dtype=float32>, 'layer_12/expansion_output': <tf.Tensor 'MobilenetV2/expanded_conv_10/expansion_output:0' shape=(1, 14, 14, 384) dtype=float32>, 'layer_12/depthwise_output': <tf.Tensor 'MobilenetV2/expanded_conv_10/depthwise_output:0' shape=(1, 14, 14, 384) dtype=float32>, 'layer_12/output': <tf.Tensor 'MobilenetV2/expanded_conv_10/output:0' shape=(1, 14, 14, 96) dtype=float32>, 'layer_13/expansion_output': <tf.Tensor 'MobilenetV2/expanded_conv_11/expansion_output:0' shape=(1, 14, 14, 576) dtype=float32>, 'layer_13/depthwise_output': <tf.Tensor 'MobilenetV2/expanded_conv_11/depthwise_output:0' shape=(1, 14, 14, 576) dtype=float32>, 'layer_13/output': <tf.Tensor 'MobilenetV2/expanded_conv_11/output:0' shape=(1, 14, 14, 96) dtype=float32>, 'layer_14/expansion_output': <tf.Tensor 'MobilenetV2/expanded_conv_12/expansion_output:0' shape=(1, 14, 14, 576) dtype=float32>, 'layer_14/depthwise_output': <tf.Tensor 'MobilenetV2/expanded_conv_12/depthwise_output:0' shape=(1, 14, 14, 576) dtype=float32>, 'layer_14/output': <tf.Tensor 'MobilenetV2/expanded_conv_12/output:0' shape=(1, 14, 14, 96) dtype=float32>, 'layer_15/expansion_output': <tf.Tensor 'MobilenetV2/expanded_conv_13/expansion_output:0' shape=(1, 14, 14, 576) dtype=float32>, 'layer_15/depthwise_output': <tf.Tensor 'MobilenetV2/expanded_conv_13/depthwise_output:0' shape=(1, 7, 7, 576) dtype=float32>, 'layer_15/output': <tf.Tensor 'MobilenetV2/expanded_conv_13/output:0' shape=(1, 7, 7, 160) dtype=float32>, 'layer_16/expansion_output': <tf.Tensor 'MobilenetV2/expanded_conv_14/expansion_output:0' shape=(1, 7, 7, 960) dtype=float32>, 'layer_16/depthwise_output': <tf.Tensor 'MobilenetV2/expanded_conv_14/depthwise_output:0' shape=(1, 7, 7, 960) dtype=float32>, 'layer_16/output': <tf.Tensor 'MobilenetV2/expanded_conv_14/output:0' shape=(1, 7, 7, 160) dtype=float32>, 'layer_17/expansion_output': <tf.Tensor 'MobilenetV2/expanded_conv_15/expansion_output:0' shape=(1, 7, 7, 960) dtype=float32>, 'layer_17/depthwise_output': <tf.Tensor 'MobilenetV2/expanded_conv_15/depthwise_output:0' shape=(1, 7, 7, 960) dtype=float32>, 'layer_17/output': <tf.Tensor 'MobilenetV2/expanded_conv_15/output:0' shape=(1, 7, 7, 160) dtype=float32>, 'layer_18/expansion_output': <tf.Tensor 'MobilenetV2/expanded_conv_16/expansion_output:0' shape=(1, 7, 7, 960) dtype=float32>, 'layer_18/depthwise_output': <tf.Tensor 'MobilenetV2/expanded_conv_16/depthwise_output:0' shape=(1, 7, 7, 960) dtype=float32>, 'layer_18/output': <tf.Tensor 'MobilenetV2/expanded_conv_16/output:0' shape=(1, 7, 7, 320) dtype=float32>, 'global_pool': <tf.Tensor 'MobilenetV2/Logits/AvgPool:0' shape=(1, 1, 1, 1280) dtype=float32>, 'Logits': <tf.Tensor 'MobilenetV2/Logits/output:0' shape=(1, 1001) dtype=float32>, 'Predictions': <tf.Tensor 'MobilenetV2/Predictions/Reshape_1:0' shape=(1, 1001) dtype=float32>}\n"
          ],
          "name": "stdout"
        }
      ]
    },
    {
      "metadata": {
        "id": "wKuXE3rtMuDJ",
        "colab_type": "code",
        "colab": {
          "base_uri": "https://localhost:8080/",
          "height": 55
        },
        "outputId": "2c572608-0231-491f-ec3f-edf516849420"
      },
      "cell_type": "code",
      "source": [
        "# Set the graph for the Inception model as the default graph,\n",
        "# so that all changes inside this with-block are done to that graph.\n",
        "#with model.graph.as_default():\n",
        "\n",
        "#with tf.contrib.slim.arg_scope(mobilenet.training_scope()):\n",
        "#     logits, endpoints = mobilenet_base(...)  \n",
        "\n",
        "#new_graph = tf.Graph()\n",
        "\n",
        "#with new_graph.as_default():\n",
        "#with tf.contrib.slim.arg_scope(mobilenet_v2.training_scope(is_training=False)):\n",
        "\"\"\"\n",
        "with tf.Session() as sess:\n",
        "  saver.restore(sess,  checkpoint)\n",
        "  # This will be set to e.g. 300 for the 'bookcase' class.\n",
        "  pl_cls_target = tf.placeholder(dtype=tf.int32)\n",
        "\n",
        "  # Add a new loss-function. This is the cross-entropy.\n",
        "  # See Tutorial #01 for an explanation of cross-entropy.\n",
        "  loss = tf.nn.sparse_softmax_cross_entropy_with_logits(logits=logits, labels=[pl_cls_target])\n",
        "\n",
        "  # Get the gradient for the loss-function with regard to\n",
        "  # the resized input image.\n",
        "  #off_x = endpoints['layer_1'].eval(feed_dict={file_input: 'panda.jpg'})\n",
        "  \n",
        "  #t_off_x = tf.get_variable(off_x, name='off_x')\n",
        "  \n",
        "  gradient = tf.gradients(loss, endpoints['layer_1'])\n",
        "  print(tf.get_default_graph())\n",
        "  print(gradient)\n",
        "\"\"\""
      ],
      "execution_count": 721,
      "outputs": [
        {
          "output_type": "execute_result",
          "data": {
            "text/plain": [
              "\"\\nwith tf.Session() as sess:\\n  saver.restore(sess,  checkpoint)\\n  # This will be set to e.g. 300 for the 'bookcase' class.\\n  pl_cls_target = tf.placeholder(dtype=tf.int32)\\n\\n  # Add a new loss-function. This is the cross-entropy.\\n  # See Tutorial #01 for an explanation of cross-entropy.\\n  loss = tf.nn.sparse_softmax_cross_entropy_with_logits(logits=logits, labels=[pl_cls_target])\\n\\n  # Get the gradient for the loss-function with regard to\\n  # the resized input image.\\n  #off_x = endpoints['layer_1'].eval(feed_dict={file_input: 'panda.jpg'})\\n  \\n  #t_off_x = tf.get_variable(off_x, name='off_x')\\n  \\n  gradient = tf.gradients(loss, endpoints['layer_1'])\\n  print(tf.get_default_graph())\\n  print(gradient)\\n\""
            ]
          },
          "metadata": {
            "tags": []
          },
          "execution_count": 721
        }
      ]
    },
    {
      "metadata": {
        "id": "iPKrDqgnWOZ9",
        "colab_type": "code",
        "colab": {
          "base_uri": "https://localhost:8080/",
          "height": 35
        },
        "outputId": "b71484b7-6598-4f70-969c-20f37c838f46"
      },
      "cell_type": "code",
      "source": [
        "sess = tf.Session(graph=tf.get_default_graph())\n",
        "saver.restore(sess,  checkpoint)\n",
        "#init = tf.global_variables_initializer()\n",
        "#sess.run(init)"
      ],
      "execution_count": 722,
      "outputs": [
        {
          "output_type": "stream",
          "text": [
            "INFO:tensorflow:Restoring parameters from mobilenet_v2_1.0_224.ckpt\n"
          ],
          "name": "stdout"
        }
      ]
    },
    {
      "metadata": {
        "id": "-YZ8EOdJJmOO",
        "colab_type": "code",
        "colab": {}
      },
      "cell_type": "code",
      "source": [
        "def find_adversary_noise(image_path, cls_target, noise_limit=3.0,\n",
        "                         required_score=0.99, max_iterations=100):\n",
        "    \"\"\"\n",
        "    Find the noise that must be added to the given image so\n",
        "    that it is classified as the target-class.\n",
        "    \n",
        "    image_path: File-path to the input-image (must be *.jpg).\n",
        "    cls_target: Target class-number (integer between 1-1000).\n",
        "    noise_limit: Limit for pixel-values in the noise.\n",
        "    required_score: Stop when target-class score reaches this.\n",
        "    max_iterations: Max number of optimization iterations to perform.\n",
        "    \"\"\"\n",
        "    \n",
        "    # Get predicted output from softmax layer\n",
        "    y_pred = endpoints['Predictions']\n",
        "    \n",
        "    # Create a feed-dict with the image.\n",
        "    #feed_dict = imagenet._create_feed_dict(image_path=image_path)\n",
        "\n",
        "    # Use TensorFlow to calculate the predicted class-scores\n",
        "    # (aka. probabilities) as well as the resized image.\n",
        "    pred, image = sess.run([y_pred, endpoints['layer_1']],\n",
        "                              feed_dict={file_input:image_path})\n",
        "  \n",
        "    #pred = y_pred.eval(feed_dict={file_input: image_path})\n",
        "    #image = Image.open(image_path)\n",
        "    #image = np.asarray(image)\n",
        "  \n",
        "    # Convert to one-dimensional array.\n",
        "    pred = np.squeeze(pred)\n",
        "\n",
        "    # Predicted class-number.\n",
        "    cls_source = np.argmax(pred)\n",
        "\n",
        "    # Score for the predicted class (aka. probability or confidence).\n",
        "    score_source_org = pred.max()\n",
        "\n",
        "    # Names for the source and target classes.\n",
        "    name_source = label_map[cls_source]\n",
        "    name_target = label_map[cls_target]\n",
        "\n",
        "    # Initialize the noise to zero.\n",
        "    noise = 0\n",
        "    \n",
        "    image_dec = np.asarray(PIL.Image.open(image_path))\n",
        "\n",
        "    # Perform a number of optimization iterations to find\n",
        "    # the noise that causes mis-classification of the input image.\n",
        "    for i in range(max_iterations):\n",
        "        print(\"Iteration:\", i)\n",
        "  \n",
        "        # The noisy image is just the sum of the input image and noise.\n",
        "        noisy_image = image + noise\n",
        "\n",
        "        # Ensure the pixel-values of the noisy image are between\n",
        "        # 0 and 255 like a real image. If we allowed pixel-values\n",
        "        # outside this range then maybe the mis-classification would\n",
        "        # be due to this 'illegal' input breaking the Inception model.\n",
        "        noisy_image = np.clip(a=noisy_image, a_min=0.0, a_max=255.0)\n",
        "        \n",
        "        #noisy_image = tf.image.encode_jpeg(noisy_image)\n",
        "        #noisy_image = ','.join(map(str,noisy_image))\n",
        "        \n",
        "        # Create a feed-dict. This feeds the noisy image to the\n",
        "        # tensor in the graph that holds the resized image, because\n",
        "        # this is the final stage for inputting raw image data.\n",
        "        # This also feeds the target class-number that we desire.\n",
        "        feed_dict = {endpoints['layer_1']: noisy_image,\n",
        "                     pl_cls_target: cls_target}\n",
        "\n",
        "        # Calculate the predicted class-scores as well as the gradient.\n",
        "        pred, grad = sess.run([y_pred, gradient],\n",
        "                                 feed_dict=feed_dict)\n",
        "        #pred = y_pred.eval(feed_dict={\n",
        "        #    file_input: noisy_image})\n",
        "        #grad = gradient.eval()\n",
        "\n",
        "        # Convert the predicted class-scores to a one-dim array.\n",
        "        pred = np.squeeze(pred)\n",
        "\n",
        "        # The scores (probabilities) for the source and target classes.\n",
        "        score_source = pred[cls_source]\n",
        "        score_target = pred[cls_target]\n",
        "\n",
        "        # Squeeze the dimensionality for the gradient-array.\n",
        "        grad = np.array(grad).squeeze()\n",
        "\n",
        "        # The gradient now tells us how much we need to change the\n",
        "        # noisy input image in order to move the predicted class\n",
        "        # closer to the desired target-class.\n",
        "\n",
        "        # Calculate the max of the absolute gradient values.\n",
        "        # This is used to calculate the step-size.\n",
        "        grad_absmax = np.abs(grad).max()\n",
        "        \n",
        "        # If the gradient is very small then use a lower limit,\n",
        "        # because we will use it as a divisor.\n",
        "        if grad_absmax < 1e-10:\n",
        "            grad_absmax = 1e-10\n",
        "\n",
        "        # Calculate the step-size for updating the image-noise.\n",
        "        # This ensures that at least one pixel colour is changed by 7.\n",
        "        # Recall that pixel colours can have 255 different values.\n",
        "        # This step-size was found to give fast convergence.\n",
        "        step_size = 7 / grad_absmax\n",
        "\n",
        "        # Print the score etc. for the source-class.\n",
        "        msg = \"Source score: {0:>7.2%}, class-number: {1:>4}, class-name: {2}\"\n",
        "        print(msg.format(score_source, cls_source, name_source))\n",
        "\n",
        "        # Print the score etc. for the target-class.\n",
        "        msg = \"Target score: {0:>7.2%}, class-number: {1:>4}, class-name: {2}\"\n",
        "        print(msg.format(score_target, cls_target, name_target))\n",
        "\n",
        "        # Print statistics for the gradient.\n",
        "        msg = \"Gradient min: {0:>9.6f}, max: {1:>9.6f}, stepsize: {2:>9.2f}\"\n",
        "        print(msg.format(grad.min(), grad.max(), step_size))\n",
        "\n",
        "        # Newline.\n",
        "        print()\n",
        "\n",
        "        # If the score for the target-class is not high enough.\n",
        "        if score_target < required_score:\n",
        "            # Update the image-noise by subtracting the gradient\n",
        "            # scaled by the step-size.\n",
        "            noise -= step_size * grad\n",
        "\n",
        "            # Ensure the noise is within the desired range.\n",
        "            # This avoids distorting the image too much.\n",
        "            noise = np.clip(a=noise,\n",
        "                            a_min=-noise_limit,\n",
        "                            a_max=noise_limit)\n",
        "        else:\n",
        "            # Abort the optimization because the score is high enough.\n",
        "            break\n",
        "\n",
        "    return image.squeeze(), noisy_image.squeeze(), noise, \\\n",
        "           name_source, name_target, \\\n",
        "           score_source, score_source_org, score_target"
      ],
      "execution_count": 0,
      "outputs": []
    },
    {
      "metadata": {
        "id": "mlCnOdfbS17S",
        "colab_type": "code",
        "colab": {}
      },
      "cell_type": "code",
      "source": [
        "def normalize_image(x):\n",
        "    # Get the min and max values for all pixels in the input.\n",
        "    x_min = x.min()\n",
        "    x_max = x.max()\n",
        "\n",
        "    # Normalize so all values are between 0.0 and 1.0\n",
        "    x_norm = (x - x_min) / (x_max - x_min)\n",
        "\n",
        "    return x_norm\n",
        "  \n",
        "\n",
        "def plot_images(image, noise, noisy_image,\n",
        "                name_source, name_target,\n",
        "                score_source, score_source_org, score_target):\n",
        "    \"\"\"\n",
        "    Plot the image, the noisy image and the noise.\n",
        "    Also shows the class-names and scores.\n",
        "\n",
        "    Note that the noise is amplified to use the full range of\n",
        "    colours, otherwise if the noise is very low it would be\n",
        "    hard to see.\n",
        "\n",
        "    image: Original input image.\n",
        "    noise: Noise that has been added to the image.\n",
        "    noisy_image: Input image + noise.\n",
        "    name_source: Name of the source-class.\n",
        "    name_target: Name of the target-class.\n",
        "    score_source: Score for the source-class.\n",
        "    score_source_org: Original score for the source-class.\n",
        "    score_target: Score for the target-class.\n",
        "    \"\"\"\n",
        "    \n",
        "    # Create figure with sub-plots.\n",
        "    fig, axes = plt.subplots(1, 3, figsize=(10,10))\n",
        "\n",
        "    # Adjust vertical spacing.\n",
        "    fig.subplots_adjust(hspace=0.1, wspace=0.1)\n",
        "\n",
        "    # Use interpolation to smooth pixels?\n",
        "    smooth = True\n",
        "    \n",
        "    # Interpolation type.\n",
        "    if smooth:\n",
        "        interpolation = 'spline16'\n",
        "    else:\n",
        "        interpolation = 'nearest'\n",
        "\n",
        "    # Plot the original image.\n",
        "    # Note that the pixel-values are normalized to the [0.0, 1.0]\n",
        "    # range by dividing with 255.\n",
        "    ax = axes.flat[0]\n",
        "    ax.imshow(image / 255.0, interpolation=interpolation)\n",
        "    msg = \"Original Image:\\n{0} ({1:.2%})\"\n",
        "    xlabel = msg.format(name_source, score_source_org)\n",
        "    ax.set_xlabel(xlabel)\n",
        "\n",
        "    # Plot the noisy image.\n",
        "    ax = axes.flat[1]\n",
        "    ax.imshow(noisy_image / 255.0, interpolation=interpolation)\n",
        "    msg = \"Image + Noise:\\n{0} ({1:.2%})\\n{2} ({3:.2%})\"\n",
        "    xlabel = msg.format(name_source, score_source, name_target, score_target)\n",
        "    ax.set_xlabel(xlabel)\n",
        "\n",
        "    # Plot the noise.\n",
        "    # The colours are amplified otherwise they would be hard to see.\n",
        "    ax = axes.flat[2]\n",
        "    ax.imshow(normalize_image(noise), interpolation=interpolation)\n",
        "    xlabel = \"Amplified Noise\"\n",
        "    ax.set_xlabel(xlabel)\n",
        "\n",
        "    # Remove ticks from all the plots.\n",
        "    for ax in axes.flat:\n",
        "        ax.set_xticks([])\n",
        "        ax.set_yticks([])\n",
        "    \n",
        "    # Ensure the plot is shown correctly with multiple plots\n",
        "    # in a single Notebook cell.\n",
        "    plt.show()\n",
        "    \n",
        "def adversary_example(image_path, cls_target,\n",
        "                      noise_limit, required_score):\n",
        "    \"\"\"\n",
        "    Find and plot adversarial noise for the given image.\n",
        "    \n",
        "    image_path: File-path to the input-image (must be *.jpg).\n",
        "    cls_target: Target class-number (integer between 1-1000).\n",
        "    noise_limit: Limit for pixel-values in the noise.\n",
        "    required_score: Stop when target-class score reaches this.\n",
        "    \"\"\"\n",
        "\n",
        "    # Find the adversarial noise.\n",
        "    image, noisy_image, noise, \\\n",
        "    name_source, name_target, \\\n",
        "    score_source, score_source_org, score_target = \\\n",
        "        find_adversary_noise(image_path=image_path,\n",
        "                             cls_target=cls_target,\n",
        "                             noise_limit=noise_limit,\n",
        "                             required_score=required_score)\n",
        "\n",
        "    # Plot the image and the noise.\n",
        "    plot_images(image=image, noise=noise, noisy_image=noisy_image,\n",
        "                name_source=name_source, name_target=name_target,\n",
        "                score_source=score_source,\n",
        "                score_source_org=score_source_org,\n",
        "                score_target=score_target)\n",
        "\n",
        "    # Print some statistics for the noise.\n",
        "    msg = \"Noise min: {0:.3f}, max: {1:.3f}, mean: {2:.3f}, std: {3:.3f}\"\n",
        "    print(msg.format(noise.min(), noise.max(),\n",
        "                     noise.mean(), noise.std()))"
      ],
      "execution_count": 0,
      "outputs": []
    },
    {
      "metadata": {
        "id": "ZArhqNhsTsuv",
        "colab_type": "code",
        "colab": {
          "base_uri": "https://localhost:8080/",
          "height": 2625
        },
        "outputId": "c59ae457-b6ff-4740-9cff-677b6065e020"
      },
      "cell_type": "code",
      "source": [
        "image_path = \"panda.jpg\"\n",
        "print(tf.get_default_graph())\n",
        "\n",
        "adversary_example(image_path=image_path,\n",
        "                  cls_target=300,\n",
        "                  noise_limit=3.0,\n",
        "                  required_score=0.99)"
      ],
      "execution_count": 725,
      "outputs": [
        {
          "output_type": "stream",
          "text": [
            "<tensorflow.python.framework.ops.Graph object at 0x7fef2f17b860>\n",
            "Iteration: 0\n",
            "Source score:  85.00%, class-number:  389, class-name: giant panda, panda, panda bear, coon bear, Ailuropoda melanoleuca\n",
            "Target score:   0.01%, class-number:  300, class-name: meerkat, mierkat\n",
            "Gradient min: -0.150164, max:  0.251689, stepsize:     27.81\n",
            "\n",
            "Iteration: 1\n",
            "Source score:   0.02%, class-number:  389, class-name: giant panda, panda, panda bear, coon bear, Ailuropoda melanoleuca\n",
            "Target score:   0.01%, class-number:  300, class-name: meerkat, mierkat\n",
            "Gradient min: -0.339750, max:  0.228604, stepsize:     20.60\n",
            "\n",
            "Iteration: 2\n",
            "Source score:   0.18%, class-number:  389, class-name: giant panda, panda, panda bear, coon bear, Ailuropoda melanoleuca\n",
            "Target score:   0.19%, class-number:  300, class-name: meerkat, mierkat\n",
            "Gradient min: -0.064060, max:  0.069337, stepsize:    100.96\n",
            "\n",
            "Iteration: 3\n",
            "Source score:   0.32%, class-number:  389, class-name: giant panda, panda, panda bear, coon bear, Ailuropoda melanoleuca\n",
            "Target score:   0.28%, class-number:  300, class-name: meerkat, mierkat\n",
            "Gradient min: -0.065595, max:  0.098252, stepsize:     71.25\n",
            "\n",
            "Iteration: 4\n",
            "Source score:   0.14%, class-number:  389, class-name: giant panda, panda, panda bear, coon bear, Ailuropoda melanoleuca\n",
            "Target score:   2.58%, class-number:  300, class-name: meerkat, mierkat\n",
            "Gradient min: -0.031026, max:  0.031536, stepsize:    221.97\n",
            "\n",
            "Iteration: 5\n",
            "Source score:   0.09%, class-number:  389, class-name: giant panda, panda, panda bear, coon bear, Ailuropoda melanoleuca\n",
            "Target score:   5.24%, class-number:  300, class-name: meerkat, mierkat\n",
            "Gradient min: -0.065189, max:  0.065302, stepsize:    107.19\n",
            "\n",
            "Iteration: 6\n",
            "Source score:   0.05%, class-number:  389, class-name: giant panda, panda, panda bear, coon bear, Ailuropoda melanoleuca\n",
            "Target score:  13.05%, class-number:  300, class-name: meerkat, mierkat\n",
            "Gradient min: -0.058009, max:  0.056158, stepsize:    120.67\n",
            "\n",
            "Iteration: 7\n",
            "Source score:   0.06%, class-number:  389, class-name: giant panda, panda, panda bear, coon bear, Ailuropoda melanoleuca\n",
            "Target score:  56.65%, class-number:  300, class-name: meerkat, mierkat\n",
            "Gradient min: -0.030649, max:  0.040715, stepsize:    171.93\n",
            "\n",
            "Iteration: 8\n",
            "Source score:   0.02%, class-number:  389, class-name: giant panda, panda, panda bear, coon bear, Ailuropoda melanoleuca\n",
            "Target score:  88.33%, class-number:  300, class-name: meerkat, mierkat\n",
            "Gradient min: -0.012015, max:  0.007798, stepsize:    582.62\n",
            "\n",
            "Iteration: 9\n",
            "Source score:   0.02%, class-number:  389, class-name: giant panda, panda, panda bear, coon bear, Ailuropoda melanoleuca\n",
            "Target score:  96.23%, class-number:  300, class-name: meerkat, mierkat\n",
            "Gradient min: -0.002411, max:  0.001737, stepsize:   2903.10\n",
            "\n",
            "Iteration: 10\n",
            "Source score:   0.01%, class-number:  389, class-name: giant panda, panda, panda bear, coon bear, Ailuropoda melanoleuca\n",
            "Target score:  94.53%, class-number:  300, class-name: meerkat, mierkat\n",
            "Gradient min: -0.002281, max:  0.002416, stepsize:   2896.90\n",
            "\n",
            "Iteration: 11\n",
            "Source score:   0.01%, class-number:  389, class-name: giant panda, panda, panda bear, coon bear, Ailuropoda melanoleuca\n",
            "Target score:  94.31%, class-number:  300, class-name: meerkat, mierkat\n",
            "Gradient min: -0.001657, max:  0.001610, stepsize:   4225.14\n",
            "\n",
            "Iteration: 12\n",
            "Source score:   0.00%, class-number:  389, class-name: giant panda, panda, panda bear, coon bear, Ailuropoda melanoleuca\n",
            "Target score:  99.26%, class-number:  300, class-name: meerkat, mierkat\n",
            "Gradient min: -0.000465, max:  0.000504, stepsize:  13875.57\n",
            "\n"
          ],
          "name": "stdout"
        },
        {
          "output_type": "error",
          "ename": "TypeError",
          "evalue": "ignored",
          "traceback": [
            "\u001b[0;31m---------------------------------------------------------------------------\u001b[0m",
            "\u001b[0;31mTypeError\u001b[0m                                 Traceback (most recent call last)",
            "\u001b[0;32m<ipython-input-725-2bb4da883d58>\u001b[0m in \u001b[0;36m<module>\u001b[0;34m()\u001b[0m\n\u001b[1;32m      5\u001b[0m                   \u001b[0mcls_target\u001b[0m\u001b[0;34m=\u001b[0m\u001b[0;36m300\u001b[0m\u001b[0;34m,\u001b[0m\u001b[0;34m\u001b[0m\u001b[0m\n\u001b[1;32m      6\u001b[0m                   \u001b[0mnoise_limit\u001b[0m\u001b[0;34m=\u001b[0m\u001b[0;36m3.0\u001b[0m\u001b[0;34m,\u001b[0m\u001b[0;34m\u001b[0m\u001b[0m\n\u001b[0;32m----> 7\u001b[0;31m                   required_score=0.99)\n\u001b[0m",
            "\u001b[0;32m<ipython-input-724-961e8b7880a2>\u001b[0m in \u001b[0;36madversary_example\u001b[0;34m(image_path, cls_target, noise_limit, required_score)\u001b[0m\n\u001b[1;32m    100\u001b[0m                 \u001b[0mscore_source\u001b[0m\u001b[0;34m=\u001b[0m\u001b[0mscore_source\u001b[0m\u001b[0;34m,\u001b[0m\u001b[0;34m\u001b[0m\u001b[0m\n\u001b[1;32m    101\u001b[0m                 \u001b[0mscore_source_org\u001b[0m\u001b[0;34m=\u001b[0m\u001b[0mscore_source_org\u001b[0m\u001b[0;34m,\u001b[0m\u001b[0;34m\u001b[0m\u001b[0m\n\u001b[0;32m--> 102\u001b[0;31m                 score_target=score_target)\n\u001b[0m\u001b[1;32m    103\u001b[0m \u001b[0;34m\u001b[0m\u001b[0m\n\u001b[1;32m    104\u001b[0m     \u001b[0;31m# Print some statistics for the noise.\u001b[0m\u001b[0;34m\u001b[0m\u001b[0;34m\u001b[0m\u001b[0m\n",
            "\u001b[0;32m<ipython-input-724-961e8b7880a2>\u001b[0m in \u001b[0;36mplot_images\u001b[0;34m(image, noise, noisy_image, name_source, name_target, score_source, score_source_org, score_target)\u001b[0m\n\u001b[1;32m     50\u001b[0m     \u001b[0;31m# range by dividing with 255.\u001b[0m\u001b[0;34m\u001b[0m\u001b[0;34m\u001b[0m\u001b[0m\n\u001b[1;32m     51\u001b[0m     \u001b[0max\u001b[0m \u001b[0;34m=\u001b[0m \u001b[0maxes\u001b[0m\u001b[0;34m.\u001b[0m\u001b[0mflat\u001b[0m\u001b[0;34m[\u001b[0m\u001b[0;36m0\u001b[0m\u001b[0;34m]\u001b[0m\u001b[0;34m\u001b[0m\u001b[0m\n\u001b[0;32m---> 52\u001b[0;31m     \u001b[0max\u001b[0m\u001b[0;34m.\u001b[0m\u001b[0mimshow\u001b[0m\u001b[0;34m(\u001b[0m\u001b[0mimage\u001b[0m \u001b[0;34m/\u001b[0m \u001b[0;36m255.0\u001b[0m\u001b[0;34m,\u001b[0m \u001b[0minterpolation\u001b[0m\u001b[0;34m=\u001b[0m\u001b[0minterpolation\u001b[0m\u001b[0;34m)\u001b[0m\u001b[0;34m\u001b[0m\u001b[0m\n\u001b[0m\u001b[1;32m     53\u001b[0m     \u001b[0mmsg\u001b[0m \u001b[0;34m=\u001b[0m \u001b[0;34m\"Original Image:\\n{0} ({1:.2%})\"\u001b[0m\u001b[0;34m\u001b[0m\u001b[0m\n\u001b[1;32m     54\u001b[0m     \u001b[0mxlabel\u001b[0m \u001b[0;34m=\u001b[0m \u001b[0mmsg\u001b[0m\u001b[0;34m.\u001b[0m\u001b[0mformat\u001b[0m\u001b[0;34m(\u001b[0m\u001b[0mname_source\u001b[0m\u001b[0;34m,\u001b[0m \u001b[0mscore_source_org\u001b[0m\u001b[0;34m)\u001b[0m\u001b[0;34m\u001b[0m\u001b[0m\n",
            "\u001b[0;32m/usr/local/lib/python3.6/dist-packages/matplotlib/__init__.py\u001b[0m in \u001b[0;36minner\u001b[0;34m(ax, *args, **kwargs)\u001b[0m\n\u001b[1;32m   1715\u001b[0m                     warnings.warn(msg % (label_namer, func.__name__),\n\u001b[1;32m   1716\u001b[0m                                   RuntimeWarning, stacklevel=2)\n\u001b[0;32m-> 1717\u001b[0;31m             \u001b[0;32mreturn\u001b[0m \u001b[0mfunc\u001b[0m\u001b[0;34m(\u001b[0m\u001b[0max\u001b[0m\u001b[0;34m,\u001b[0m \u001b[0;34m*\u001b[0m\u001b[0margs\u001b[0m\u001b[0;34m,\u001b[0m \u001b[0;34m**\u001b[0m\u001b[0mkwargs\u001b[0m\u001b[0;34m)\u001b[0m\u001b[0;34m\u001b[0m\u001b[0m\n\u001b[0m\u001b[1;32m   1718\u001b[0m         \u001b[0mpre_doc\u001b[0m \u001b[0;34m=\u001b[0m \u001b[0minner\u001b[0m\u001b[0;34m.\u001b[0m\u001b[0m__doc__\u001b[0m\u001b[0;34m\u001b[0m\u001b[0m\n\u001b[1;32m   1719\u001b[0m         \u001b[0;32mif\u001b[0m \u001b[0mpre_doc\u001b[0m \u001b[0;32mis\u001b[0m \u001b[0;32mNone\u001b[0m\u001b[0;34m:\u001b[0m\u001b[0;34m\u001b[0m\u001b[0m\n",
            "\u001b[0;32m/usr/local/lib/python3.6/dist-packages/matplotlib/axes/_axes.py\u001b[0m in \u001b[0;36mimshow\u001b[0;34m(self, X, cmap, norm, aspect, interpolation, alpha, vmin, vmax, origin, extent, shape, filternorm, filterrad, imlim, resample, url, **kwargs)\u001b[0m\n\u001b[1;32m   5129\u001b[0m                               resample=resample, **kwargs)\n\u001b[1;32m   5130\u001b[0m \u001b[0;34m\u001b[0m\u001b[0m\n\u001b[0;32m-> 5131\u001b[0;31m         \u001b[0mim\u001b[0m\u001b[0;34m.\u001b[0m\u001b[0mset_data\u001b[0m\u001b[0;34m(\u001b[0m\u001b[0mX\u001b[0m\u001b[0;34m)\u001b[0m\u001b[0;34m\u001b[0m\u001b[0m\n\u001b[0m\u001b[1;32m   5132\u001b[0m         \u001b[0mim\u001b[0m\u001b[0;34m.\u001b[0m\u001b[0mset_alpha\u001b[0m\u001b[0;34m(\u001b[0m\u001b[0malpha\u001b[0m\u001b[0;34m)\u001b[0m\u001b[0;34m\u001b[0m\u001b[0m\n\u001b[1;32m   5133\u001b[0m         \u001b[0;32mif\u001b[0m \u001b[0mim\u001b[0m\u001b[0;34m.\u001b[0m\u001b[0mget_clip_path\u001b[0m\u001b[0;34m(\u001b[0m\u001b[0;34m)\u001b[0m \u001b[0;32mis\u001b[0m \u001b[0;32mNone\u001b[0m\u001b[0;34m:\u001b[0m\u001b[0;34m\u001b[0m\u001b[0m\n",
            "\u001b[0;32m/usr/local/lib/python3.6/dist-packages/matplotlib/image.py\u001b[0m in \u001b[0;36mset_data\u001b[0;34m(self, A)\u001b[0m\n\u001b[1;32m    620\u001b[0m         if not (self._A.ndim == 2\n\u001b[1;32m    621\u001b[0m                 or self._A.ndim == 3 and self._A.shape[-1] in [3, 4]):\n\u001b[0;32m--> 622\u001b[0;31m             \u001b[0;32mraise\u001b[0m \u001b[0mTypeError\u001b[0m\u001b[0;34m(\u001b[0m\u001b[0;34m\"Invalid dimensions for image data\"\u001b[0m\u001b[0;34m)\u001b[0m\u001b[0;34m\u001b[0m\u001b[0m\n\u001b[0m\u001b[1;32m    623\u001b[0m \u001b[0;34m\u001b[0m\u001b[0m\n\u001b[1;32m    624\u001b[0m         \u001b[0mself\u001b[0m\u001b[0;34m.\u001b[0m\u001b[0m_imcache\u001b[0m \u001b[0;34m=\u001b[0m \u001b[0;32mNone\u001b[0m\u001b[0;34m\u001b[0m\u001b[0m\n",
            "\u001b[0;31mTypeError\u001b[0m: Invalid dimensions for image data"
          ]
        },
        {
          "output_type": "display_data",
          "data": {
            "image/png": "[encoded data removed]",
            "text/plain": [
              "<matplotlib.figure.Figure at 0x7fef41ba2f60>"
            ]
          },
          "metadata": {
            "tags": []
          }
        }
      ]
    },
    {
      "metadata": {
        "id": "H5GgLi7tv-Qx",
        "colab_type": "code",
        "colab": {
          "base_uri": "https://localhost:8080/",
          "height": 172
        },
        "outputId": "06f24f45-28f5-4a0a-8d56-dbb28d8354a4"
      },
      "cell_type": "code",
      "source": [
        "print(noisy_image)"
      ],
      "execution_count": 53,
      "outputs": [
        {
          "output_type": "error",
          "ename": "NameError",
          "evalue": "ignored",
          "traceback": [
            "\u001b[0;31m---------------------------------------------------------------------------\u001b[0m",
            "\u001b[0;31mNameError\u001b[0m                                 Traceback (most recent call last)",
            "\u001b[0;32m<ipython-input-53-d855e1fefc5d>\u001b[0m in \u001b[0;36m<module>\u001b[0;34m()\u001b[0m\n\u001b[0;32m----> 1\u001b[0;31m \u001b[0mprint\u001b[0m\u001b[0;34m(\u001b[0m\u001b[0mnoisy_image\u001b[0m\u001b[0;34m)\u001b[0m\u001b[0;34m\u001b[0m\u001b[0m\n\u001b[0m",
            "\u001b[0;31mNameError\u001b[0m: name 'noisy_image' is not defined"
          ]
        }
      ]
    }
  ]
}